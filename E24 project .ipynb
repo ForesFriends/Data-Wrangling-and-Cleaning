{
 "cells": [
  {
   "cell_type": "markdown",
   "metadata": {
    "colab_type": "text",
    "id": "Sc7cGeWP6Hda"
   },
   "source": [
    "# Endangered Animals and Invasive Animals"
   ]
  },
  {
   "cell_type": "markdown",
   "metadata": {},
   "source": [
    "- Name:  Vadde Pavan Kumar \n",
    "- Project : E24\n",
    "- Work Type: Wrangling the Data Sets\n",
    "- Type Of Datasets: Open Datasets/API\n",
    "- Version: Python 3.0\n",
    "- Date: 12-Apr-2020"
   ]
  },
  {
   "cell_type": "markdown",
   "metadata": {
    "colab_type": "text",
    "id": "DMYolwwK6Hdd"
   },
   "source": [
    "#### Data Exploration for Project Forest Friends"
   ]
  },
  {
   "cell_type": "markdown",
   "metadata": {},
   "source": [
    "#### Package Installations"
   ]
  },
  {
   "cell_type": "code",
   "execution_count": null,
   "metadata": {},
   "outputs": [],
   "source": [
    "#!/usr/bin/env python\n",
    "\n",
    "# make sure to install these packages before running:\n",
    "# pip install pandas\n",
    "# pip install sodapy\n",
    "#pip insatll numpy\n"
   ]
  },
  {
   "cell_type": "markdown",
   "metadata": {
    "colab_type": "text",
    "id": "Y1rEWmjt6qkG"
   },
   "source": [
    "# Importing the packages "
   ]
  },
  {
   "cell_type": "code",
   "execution_count": 8,
   "metadata": {
    "colab": {},
    "colab_type": "code",
    "id": "hUfYv3uu6Hdj"
   },
   "outputs": [],
   "source": [
    "import pandas as pd \n",
    "import numpy as np\n",
    "import pandas as pd\n",
    "import geopandas as gpd\n",
    "import requests\n",
    "from bs4 import BeautifulSoup\n",
    "#from sodapy import Socrata\n",
    "import requests\n",
    "import pandas as pd\n",
    "import csv\n",
    "#import wikipedia\n",
    "import urllib.request\n",
    "import random\n",
    "import string\n",
    "import numpy as np\n"
   ]
  },
  {
   "cell_type": "markdown",
   "metadata": {
    "colab_type": "text",
    "id": "px8lFmxogaGx"
   },
   "source": [
    "- Loading the data, the data is about the endangered species, the data is collected from the data.gov.au \n",
    "- As the data is collected from the open data sets. And the link is provided to from where the data has extracted\n",
    "\n",
    "https://data.gov.au/dataset/ds-dga-ae652011-f39e-4c6c-91b8-1dc2d2dfee8f/details"
   ]
  },
  {
   "cell_type": "markdown",
   "metadata": {},
   "source": [
    "### Data Properties:\n",
    "\n",
    "- The data is about the Endangered species in the australia and is also given that which is provided across the states of\n",
    "  of the australia\n",
    "- Data which is provided is the rela time data and also is provided with the API.\n",
    "- The data set is comprised of animal information like Scientific Name and common name and also refrence link to the animal   species open data base."
   ]
  },
  {
   "cell_type": "markdown",
   "metadata": {},
   "source": [
    "#### Loading the data "
   ]
  },
  {
   "cell_type": "code",
   "execution_count": null,
   "metadata": {
    "colab": {},
    "colab_type": "code",
    "id": "Q01p7rtg6Hd2"
   },
   "outputs": [],
   "source": [
    "govt_data = pd.read_csv(\"20200404spcs.csv\")"
   ]
  },
  {
   "cell_type": "code",
   "execution_count": null,
   "metadata": {
    "colab": {
     "base_uri": "https://localhost:8080/",
     "height": 400
    },
    "colab_type": "code",
    "executionInfo": {
     "elapsed": 975,
     "status": "ok",
     "timestamp": 1586604431573,
     "user": {
      "displayName": "Chandra Teja",
      "photoUrl": "https://lh4.googleusercontent.com/-amI93dQ6WGc/AAAAAAAAAAI/AAAAAAAACBU/WfH8I8yFCGM/s64/photo.jpg",
      "userId": "09343536483693696452"
     },
     "user_tz": -600
    },
    "id": "XvOQfOzW6HeA",
    "outputId": "05d98122-9ee6-45d4-fbfb-3ccac69deac1"
   },
   "outputs": [],
   "source": [
    "govt_data.head() "
   ]
  },
  {
   "cell_type": "code",
   "execution_count": null,
   "metadata": {
    "colab": {
     "base_uri": "https://localhost:8080/",
     "height": 163
    },
    "colab_type": "code",
    "executionInfo": {
     "elapsed": 1112,
     "status": "ok",
     "timestamp": 1586604435488,
     "user": {
      "displayName": "Chandra Teja",
      "photoUrl": "https://lh4.googleusercontent.com/-amI93dQ6WGc/AAAAAAAAAAI/AAAAAAAACBU/WfH8I8yFCGM/s64/photo.jpg",
      "userId": "09343536483693696452"
     },
     "user_tz": -600
    },
    "id": "DbpH0BVW6HeK",
    "outputId": "56c84a5b-d646-47a1-fe28-eb2c1c51cc84"
   },
   "outputs": [],
   "source": [
    "\n",
    "govt_data.columns"
   ]
  },
  {
   "cell_type": "markdown",
   "metadata": {
    "colab": {},
    "colab_type": "code",
    "id": "IWRghoBT6HeT"
   },
   "source": [
    "As the data is provided with the rich information of endangered species.\n",
    "    - Animalia \n",
    "    - Plante \n",
    "As we are dealing with the animal information we are jsut extracting the infromation with the regards to the animals "
   ]
  },
  {
   "cell_type": "code",
   "execution_count": null,
   "metadata": {
    "colab": {},
    "colab_type": "code",
    "id": "y_JbkDjO69oW"
   },
   "outputs": [],
   "source": [
    "govt_data = govt_data[govt_data['Kingdom'] == \"Animalia\"]"
   ]
  },
  {
   "cell_type": "code",
   "execution_count": null,
   "metadata": {
    "colab": {},
    "colab_type": "code",
    "id": "044_0bz8_iR1"
   },
   "outputs": [],
   "source": [
    "govt_data.reset_index(drop=True, inplace=True)"
   ]
  },
  {
   "cell_type": "code",
   "execution_count": null,
   "metadata": {
    "colab": {
     "base_uri": "https://localhost:8080/",
     "height": 35
    },
    "colab_type": "code",
    "executionInfo": {
     "elapsed": 692,
     "status": "ok",
     "timestamp": 1586604441670,
     "user": {
      "displayName": "Chandra Teja",
      "photoUrl": "https://lh4.googleusercontent.com/-amI93dQ6WGc/AAAAAAAAAAI/AAAAAAAACBU/WfH8I8yFCGM/s64/photo.jpg",
      "userId": "09343536483693696452"
     },
     "user_tz": -600
    },
    "id": "_bLJXWAJ7O3H",
    "outputId": "8ebebd9f-bca7-4deb-ac31-b5afe78ea88b"
   },
   "outputs": [],
   "source": [
    "govt_data.shape"
   ]
  },
  {
   "cell_type": "code",
   "execution_count": null,
   "metadata": {
    "colab": {
     "base_uri": "https://localhost:8080/",
     "height": 400
    },
    "colab_type": "code",
    "executionInfo": {
     "elapsed": 846,
     "status": "ok",
     "timestamp": 1586604471730,
     "user": {
      "displayName": "Chandra Teja",
      "photoUrl": "https://lh4.googleusercontent.com/-amI93dQ6WGc/AAAAAAAAAAI/AAAAAAAACBU/WfH8I8yFCGM/s64/photo.jpg",
      "userId": "09343536483693696452"
     },
     "user_tz": -600
    },
    "id": "FWJYJSNF_o2f",
    "outputId": "dd19f3ac-3922-4ebe-e529-7a1ab9346912"
   },
   "outputs": [],
   "source": [
    "govt_data.head()"
   ]
  },
  {
   "cell_type": "markdown",
   "metadata": {},
   "source": [
    "##### created the new dataframe and with the state columns \n",
    "- removing the all the different columns and making one column, with all the states included in that.\n"
   ]
  },
  {
   "cell_type": "code",
   "execution_count": null,
   "metadata": {
    "colab": {},
    "colab_type": "code",
    "id": "uuH1Avzk6Hen"
   },
   "outputs": [],
   "source": [
    "cols = ['ACT','NSW','NT','QLD','SA','TAS','VIC','WA']"
   ]
  },
  {
   "cell_type": "code",
   "execution_count": null,
   "metadata": {
    "colab": {},
    "colab_type": "code",
    "id": "iDuZGFge6Hev"
   },
   "outputs": [],
   "source": [
    "df = govt_data[['ACT','NSW','NT','QLD','SA','TAS','VIC','WA']]"
   ]
  },
  {
   "cell_type": "code",
   "execution_count": null,
   "metadata": {
    "colab": {},
    "colab_type": "code",
    "id": "_lHWMvTg6He0"
   },
   "outputs": [],
   "source": [
    "s = np.where(df == \"Yes\", ['{}'.format(x) for x in df.columns], '')\n",
    "regions = pd.Series([''.join(x).strip(',') for x in s], index=df.index)\n",
    "regions = s.tolist()\n",
    "\n",
    "for j in regions:\n",
    "    while '' in j:\n",
    "        j.remove('')"
   ]
  },
  {
   "cell_type": "code",
   "execution_count": null,
   "metadata": {
    "colab": {},
    "colab_type": "code",
    "id": "0x_DQ3r36He7"
   },
   "outputs": [],
   "source": [
    "govt_data['states'] = regions"
   ]
  },
  {
   "cell_type": "code",
   "execution_count": null,
   "metadata": {
    "colab": {
     "base_uri": "https://localhost:8080/",
     "height": 712
    },
    "colab_type": "code",
    "executionInfo": {
     "elapsed": 1075,
     "status": "ok",
     "timestamp": 1586611543242,
     "user": {
      "displayName": "Chandra Teja",
      "photoUrl": "https://lh4.googleusercontent.com/-amI93dQ6WGc/AAAAAAAAAAI/AAAAAAAACBU/WfH8I8yFCGM/s64/photo.jpg",
      "userId": "09343536483693696452"
     },
     "user_tz": -600
    },
    "id": "YES2QLr46HfB",
    "outputId": "493ee53a-960c-4228-d607-60ff8e90d78b"
   },
   "outputs": [],
   "source": [
    "govt_data.head()"
   ]
  },
  {
   "cell_type": "markdown",
   "metadata": {
    "colab": {},
    "colab_type": "code",
    "id": "JhggC61vA5mv"
   },
   "source": [
    "### Data for australian capital teritory \n",
    "\n",
    "- Working on the animal species data for the australian capital teritory\n",
    "- Where the data is collected from data.act.gov.au and the data is extracted using the API\n",
    "- Dataset has the information about all the endangered animals and also provied with the map information where actually the animal resides \n",
    "\n",
    "Source: www.data.act.gov.au/e9ux-7djy"
   ]
  },
  {
   "cell_type": "code",
   "execution_count": null,
   "metadata": {
    "colab": {
     "base_uri": "https://localhost:8080/",
     "height": 35
    },
    "colab_type": "code",
    "executionInfo": {
     "elapsed": 1737,
     "status": "ok",
     "timestamp": 1586605117405,
     "user": {
      "displayName": "Chandra Teja",
      "photoUrl": "https://lh4.googleusercontent.com/-amI93dQ6WGc/AAAAAAAAAAI/AAAAAAAACBU/WfH8I8yFCGM/s64/photo.jpg",
      "userId": "09343536483693696452"
     },
     "user_tz": -600
    },
    "id": "UItb5aOJ6Hhx",
    "outputId": "50f24e40-f0d5-48cd-9903-3979ea1b28db"
   },
   "outputs": [],
   "source": [
    "\n",
    "# Unauthenticated client only works with public data sets. Note 'None'\n",
    "# in place of application token, and no username or password:\n",
    "client = Socrata(\"www.data.act.gov.au\", None)\n",
    "\n",
    "# Example authenticated client (needed for non-public datasets):\n",
    "# client = Socrata(www.data.act.gov.au,\n",
    "#                  MyAppToken,\n",
    "#                  userame=\"user@example.com\",\n",
    "#                  password=\"AFakePassword\")\n",
    "\n",
    "# First 2000 results, returned as JSON from API / converted to Python list of\n",
    "# dictionaries by sodapy.\n",
    "results = client.get(\"e9ux-7djy\", limit=50000)\n",
    "\n",
    "# Convert to pandas DataFrame\n",
    "results_df = pd.DataFrame.from_records(results)"
   ]
  },
  {
   "cell_type": "code",
   "execution_count": null,
   "metadata": {
    "colab": {
     "base_uri": "https://localhost:8080/",
     "height": 90
    },
    "colab_type": "code",
    "executionInfo": {
     "elapsed": 686,
     "status": "ok",
     "timestamp": 1586605171124,
     "user": {
      "displayName": "Chandra Teja",
      "photoUrl": "https://lh4.googleusercontent.com/-amI93dQ6WGc/AAAAAAAAAAI/AAAAAAAACBU/WfH8I8yFCGM/s64/photo.jpg",
      "userId": "09343536483693696452"
     },
     "user_tz": -600
    },
    "id": "MYbyFcObCWr-",
    "outputId": "baf07e5a-ca9a-496c-8011-b839473ec1ca"
   },
   "outputs": [],
   "source": [
    "results_df.columns"
   ]
  },
  {
   "cell_type": "markdown",
   "metadata": {},
   "source": [
    "- Extracting only the necessary columns from the dataset\n",
    "  - common name \n",
    "  - Scientific name \n",
    "  - postions "
   ]
  },
  {
   "cell_type": "code",
   "execution_count": null,
   "metadata": {
    "colab": {},
    "colab_type": "code",
    "id": "jVXDVpbhBLXn"
   },
   "outputs": [],
   "source": [
    "results_df = results_df[['commonname', 'scientificname','location_1']]"
   ]
  },
  {
   "cell_type": "markdown",
   "metadata": {},
   "source": [
    "###### Storing the information into the new file "
   ]
  },
  {
   "cell_type": "code",
   "execution_count": null,
   "metadata": {
    "colab": {},
    "colab_type": "code",
    "id": "jpx4n4tD0xSI"
   },
   "outputs": [],
   "source": [
    "results_df.to_csv('ACT_animals.csv')"
   ]
  },
  {
   "cell_type": "code",
   "execution_count": null,
   "metadata": {
    "colab": {
     "base_uri": "https://localhost:8080/",
     "height": 424
    },
    "colab_type": "code",
    "executionInfo": {
     "elapsed": 891,
     "status": "ok",
     "timestamp": 1586605193146,
     "user": {
      "displayName": "Chandra Teja",
      "photoUrl": "https://lh4.googleusercontent.com/-amI93dQ6WGc/AAAAAAAAAAI/AAAAAAAACBU/WfH8I8yFCGM/s64/photo.jpg",
      "userId": "09343536483693696452"
     },
     "user_tz": -600
    },
    "id": "Ism_z4tlCcX9",
    "outputId": "aca25f0d-2a8f-44fa-fd3d-6441582ff13a"
   },
   "outputs": [],
   "source": [
    "results_df"
   ]
  },
  {
   "cell_type": "markdown",
   "metadata": {
    "colab": {},
    "colab_type": "code",
    "id": "73i7Q1zzCmyO"
   },
   "source": [
    "### Working on the data for melbourne "
   ]
  },
  {
   "cell_type": "markdown",
   "metadata": {},
   "source": [
    "Data is extarcted from the API which is pen source and data is provided for the animals across the melbourne.\n",
    "\n",
    "Source : data.melbourne.vic.gov.au/a945-pqqr"
   ]
  },
  {
   "cell_type": "code",
   "execution_count": null,
   "metadata": {
    "colab": {
     "base_uri": "https://localhost:8080/",
     "height": 35
    },
    "colab_type": "code",
    "executionInfo": {
     "elapsed": 1187,
     "status": "ok",
     "timestamp": 1586608498500,
     "user": {
      "displayName": "Chandra Teja",
      "photoUrl": "https://lh4.googleusercontent.com/-amI93dQ6WGc/AAAAAAAAAAI/AAAAAAAACBU/WfH8I8yFCGM/s64/photo.jpg",
      "userId": "09343536483693696452"
     },
     "user_tz": -600
    },
    "id": "Tq7p2-796Hh4",
    "outputId": "c003a33e-a928-442f-9164-8f0064b5c640"
   },
   "outputs": [],
   "source": [
    "\n",
    "# Unauthenticated client only works with public data sets. Note 'None'\n",
    "# in place of application token, and no username or password:\n",
    "client = Socrata(\"data.melbourne.vic.gov.au\", None)\n",
    "\n",
    "# Example authenticated client (needed for non-public datasets):\n",
    "# client = Socrata(data.melbourne.vic.gov.au,\n",
    "#                  MyAppToken,\n",
    "#                  userame=\"user@example.com\",\n",
    "#                  password=\"AFakePassword\")\n",
    "\n",
    "# First 2000 results, returned as JSON from API / converted to Python list of\n",
    "# dictionaries by sodapy.\n",
    "results = client.get(\"a945-pqqr\", limit=50000)\n",
    "\n",
    "# Convert to pandas DataFrame\n",
    "mel_df = pd.DataFrame.from_records(results)"
   ]
  },
  {
   "cell_type": "markdown",
   "metadata": {},
   "source": [
    "##### Selecting only the animala Kingdom data "
   ]
  },
  {
   "cell_type": "code",
   "execution_count": null,
   "metadata": {
    "colab": {},
    "colab_type": "code",
    "id": "TJIG_sHs6Hh8"
   },
   "outputs": [],
   "source": [
    "mel_df = mel_df[mel_df['state_parsed'] == \"ANIMALIA\"]"
   ]
  },
  {
   "cell_type": "code",
   "execution_count": null,
   "metadata": {
    "colab": {},
    "colab_type": "code",
    "id": "BoEmEucYC-db"
   },
   "outputs": [],
   "source": [
    "mel_df.reset_index(drop=True, inplace=True)"
   ]
  },
  {
   "cell_type": "code",
   "execution_count": null,
   "metadata": {
    "colab": {},
    "colab_type": "code",
    "id": "u-SsZCpKD2MV"
   },
   "outputs": [],
   "source": [
    "mel_df = mel_df[['ibra_region_parsed','collector','basis_of_record_processed','taxon_identification_issue','latitude_processed','longitude_processed']]"
   ]
  },
  {
   "cell_type": "markdown",
   "metadata": {},
   "source": [
    "###### Data is stored into the CSV files "
   ]
  },
  {
   "cell_type": "code",
   "execution_count": null,
   "metadata": {
    "colab": {},
    "colab_type": "code",
    "id": "taXhox0N0-RZ"
   },
   "outputs": [],
   "source": [
    "mel_df.to_csv('vic_animals.csv')"
   ]
  },
  {
   "cell_type": "code",
   "execution_count": null,
   "metadata": {
    "colab": {
     "base_uri": "https://localhost:8080/",
     "height": 424
    },
    "colab_type": "code",
    "executionInfo": {
     "elapsed": 903,
     "status": "ok",
     "timestamp": 1586608508946,
     "user": {
      "displayName": "Chandra Teja",
      "photoUrl": "https://lh4.googleusercontent.com/-amI93dQ6WGc/AAAAAAAAAAI/AAAAAAAACBU/WfH8I8yFCGM/s64/photo.jpg",
      "userId": "09343536483693696452"
     },
     "user_tz": -600
    },
    "id": "C1Sz3QGfD-gE",
    "outputId": "fd20675c-29ca-4417-bdb1-d2979dd15285"
   },
   "outputs": [],
   "source": [
    "mel_df"
   ]
  },
  {
   "cell_type": "code",
   "execution_count": null,
   "metadata": {
    "colab": {},
    "colab_type": "code",
    "id": "h-jYPoFiEmkw"
   },
   "outputs": [],
   "source": [
    "mel_df = mel_df.rename(columns={'ibra_region_parsed': 'animal_type', 'basis_of_record_processed': 'scientific_name','taxon_identification_issue' : 'common_name', 'latitude_processed':'latitude','longitude_processed' : 'longitude'})"
   ]
  },
  {
   "cell_type": "code",
   "execution_count": null,
   "metadata": {
    "colab": {
     "base_uri": "https://localhost:8080/",
     "height": 206
    },
    "colab_type": "code",
    "executionInfo": {
     "elapsed": 887,
     "status": "ok",
     "timestamp": 1586608665560,
     "user": {
      "displayName": "Chandra Teja",
      "photoUrl": "https://lh4.googleusercontent.com/-amI93dQ6WGc/AAAAAAAAAAI/AAAAAAAACBU/WfH8I8yFCGM/s64/photo.jpg",
      "userId": "09343536483693696452"
     },
     "user_tz": -600
    },
    "id": "fwA36jHQOumv",
    "outputId": "e127bdce-940b-4621-a0e6-ce4dd22346ad"
   },
   "outputs": [],
   "source": [
    "mel_df.head()"
   ]
  },
  {
   "cell_type": "code",
   "execution_count": null,
   "metadata": {
    "colab": {},
    "colab_type": "code",
    "id": "--Bvfp5H6HiV"
   },
   "outputs": [],
   "source": []
  },
  {
   "cell_type": "markdown",
   "metadata": {
    "colab": {},
    "colab_type": "code",
    "id": "AtNJnMNC6HiX"
   },
   "source": [
    "### Extracting the data"
   ]
  },
  {
   "cell_type": "markdown",
   "metadata": {
    "colab": {},
    "colab_type": "code",
    "id": "chWeSTwj6Hi2"
   },
   "source": [
    "## Main Code"
   ]
  },
  {
   "cell_type": "markdown",
   "metadata": {
    "colab": {},
    "colab_type": "code",
    "id": "ugdvnFB86Hi4"
   },
   "source": [
    "##### Function for extracting the content from the HTML Page  - Called function"
   ]
  },
  {
   "cell_type": "code",
   "execution_count": null,
   "metadata": {
    "colab": {},
    "colab_type": "code",
    "id": "ebE7Im3b6HjM"
   },
   "outputs": [],
   "source": [
    "def service(l1,text):\n",
    "    l1 = l1\n",
    "    habitat = []\n",
    "    for i in range(len(l1)):\n",
    "        count = 1\n",
    "        if l1[i].strip() == text:\n",
    "            while count <= 2:\n",
    "                if l1[i].strip() == \"Top\":\n",
    "                    count = count + 1\n",
    "                habitat.append(l1[i].strip())\n",
    "                i = i + 1\n",
    "    while '' in habitat:\n",
    "        habitat.remove('')\n",
    "    habitat = habitat[2:-2]\n",
    "    return(habitat)"
   ]
  },
  {
   "cell_type": "markdown",
   "metadata": {
    "colab": {},
    "colab_type": "code",
    "id": "DHWallgh6HjO"
   },
   "source": [
    "### Main Function  - Called and Calling Function"
   ]
  },
  {
   "cell_type": "code",
   "execution_count": null,
   "metadata": {
    "colab": {},
    "colab_type": "code",
    "id": "gKdDx0FT6HjR"
   },
   "outputs": [],
   "source": [
    "def extract(url):\n",
    "    url = url\n",
    "    res = requests.get(url)\n",
    "    html_page = res.content\n",
    "    soup = BeautifulSoup(html_page, 'html.parser')\n",
    "    text = soup.find_all(text=True)\n",
    "\n",
    "    output = ''\n",
    "    data = []\n",
    "    blacklist = [\n",
    "    '[document]',\n",
    "    'noscript',\n",
    "    'header',\n",
    "    'html',\n",
    "    'meta',\n",
    "    'head', \n",
    "    'input',\n",
    "    'script',\n",
    "    # there may be more elements you don't want, such as \"style\", etc.\n",
    "    ]\n",
    "\n",
    "    for t in text:\n",
    "        if t.parent.name not in blacklist:\n",
    "            output += '{} '.format(t)\n",
    "\n",
    "    l1 = output.strip().split('\\n')\n",
    "    services = [\"Habitat\",\"Feeding\",\"Threats\",\"Illustrations\",\"Descriptions\"]\n",
    "    for ser in services:\n",
    "        data.append(service(l1,ser))\n",
    "   \n",
    "    return(data)"
   ]
  },
  {
   "cell_type": "markdown",
   "metadata": {
    "colab": {},
    "colab_type": "code",
    "id": "vMMrR-tP6HjU"
   },
   "source": [
    "##### creating the new columns in the dataframe "
   ]
  },
  {
   "cell_type": "code",
   "execution_count": null,
   "metadata": {
    "colab": {},
    "colab_type": "code",
    "id": "s6DrR3Xt6HjX"
   },
   "outputs": [],
   "source": [
    "govt_data['habitat'] = \"\"\n",
    "govt_data['feeding'] = \"\"\n",
    "govt_data['threat'] = \"\"\n",
    "govt_data['image'] = \"\"\n",
    "govt_data['Description'] = \"\""
   ]
  },
  {
   "cell_type": "code",
   "execution_count": null,
   "metadata": {
    "colab": {
     "base_uri": "https://localhost:8080/",
     "height": 622
    },
    "colab_type": "code",
    "executionInfo": {
     "elapsed": 3729,
     "status": "ok",
     "timestamp": 1586612391392,
     "user": {
      "displayName": "Chandra Teja",
      "photoUrl": "https://lh4.googleusercontent.com/-amI93dQ6WGc/AAAAAAAAAAI/AAAAAAAACBU/WfH8I8yFCGM/s64/photo.jpg",
      "userId": "09343536483693696452"
     },
     "user_tz": -600
    },
    "id": "GHF-T3R66HjZ",
    "outputId": "6461d114-a7a1-4d0a-b5e6-dcc2bbce9422",
    "scrolled": true
   },
   "outputs": [],
   "source": [
    "## example\n",
    "#extract(\"http://www.environment.gov.au/cgi-bin/sprat/public/publicspecies.pl?taxon_id=26\")"
   ]
  },
  {
   "cell_type": "markdown",
   "metadata": {},
   "source": [
    "#### Main Function Call -- Calling function "
   ]
  },
  {
   "cell_type": "code",
   "execution_count": null,
   "metadata": {
    "colab": {
     "base_uri": "https://localhost:8080/",
     "height": 382
    },
    "colab_type": "code",
    "executionInfo": {
     "elapsed": 1563903,
     "status": "ok",
     "timestamp": 1586614055552,
     "user": {
      "displayName": "Chandra Teja",
      "photoUrl": "https://lh4.googleusercontent.com/-amI93dQ6WGc/AAAAAAAAAAI/AAAAAAAACBU/WfH8I8yFCGM/s64/photo.jpg",
      "userId": "09343536483693696452"
     },
     "user_tz": -600
    },
    "id": "WkH1HmRC6Hjd",
    "outputId": "e7466c4e-30d3-481b-fbfc-72e1209f4c31",
    "scrolled": true
   },
   "outputs": [],
   "source": [
    "profiles = govt_data[\"Profile\"]\n",
    "for i in range(len(profiles)):\n",
    "    profile = extract(profiles[i])\n",
    "    govt_data['habitat'][i] = profile[0]\n",
    "    govt_data['feeding'][i] = profile[1]\n",
    "    govt_data['threat'][i] = profile[2]\n",
    "    govt_data['image'][i] = [x for x in list(set(profile[3])) if x.startswith('Google')]\n",
    "    govt_data['Description'][i] = profile[4][0] if len(desc) > 0 else profile[4]"
   ]
  },
  {
   "cell_type": "code",
   "execution_count": null,
   "metadata": {
    "colab": {
     "base_uri": "https://localhost:8080/",
     "height": 712
    },
    "colab_type": "code",
    "executionInfo": {
     "elapsed": 1001,
     "status": "ok",
     "timestamp": 1586614406514,
     "user": {
      "displayName": "Chandra Teja",
      "photoUrl": "https://lh4.googleusercontent.com/-amI93dQ6WGc/AAAAAAAAAAI/AAAAAAAACBU/WfH8I8yFCGM/s64/photo.jpg",
      "userId": "09343536483693696452"
     },
     "user_tz": -600
    },
    "id": "qs6BcSDg6Hjg",
    "outputId": "2c6f9e09-04c4-4046-c11a-5d686845f635"
   },
   "outputs": [],
   "source": [
    "govt_data.head()"
   ]
  },
  {
   "cell_type": "code",
   "execution_count": null,
   "metadata": {
    "colab": {
     "base_uri": "https://localhost:8080/",
     "height": 181
    },
    "colab_type": "code",
    "executionInfo": {
     "elapsed": 1245,
     "status": "ok",
     "timestamp": 1586611111968,
     "user": {
      "displayName": "Chandra Teja",
      "photoUrl": "https://lh4.googleusercontent.com/-amI93dQ6WGc/AAAAAAAAAAI/AAAAAAAACBU/WfH8I8yFCGM/s64/photo.jpg",
      "userId": "09343536483693696452"
     },
     "user_tz": -600
    },
    "id": "6rBVOoPH6Hjj",
    "outputId": "155f7e75-c8f9-4380-bb80-8414ef8b25b0"
   },
   "outputs": [],
   "source": [
    "govt_data.columns"
   ]
  },
  {
   "cell_type": "code",
   "execution_count": null,
   "metadata": {
    "colab": {},
    "colab_type": "code",
    "id": "VFwNNsMu6Hjs"
   },
   "outputs": [],
   "source": [
    "#cols = ['Scientific Name', 'Common Name','Threatened status','Listed SPRAT TaxonID','Kingdom','Class','Profile',\n",
    " #      'Family','states','habitat', 'feeding', 'threat','image']"
   ]
  },
  {
   "cell_type": "markdown",
   "metadata": {},
   "source": [
    "#### Picking up only the useful columns and writing to the csv file"
   ]
  },
  {
   "cell_type": "code",
   "execution_count": null,
   "metadata": {
    "colab": {},
    "colab_type": "code",
    "id": "zlD-Ie8j6Hjw"
   },
   "outputs": [],
   "source": [
    "main_df = govt_data[['Scientific Name', 'Common Name','Threatened status','Listed SPRAT TaxonID','Kingdom','Class','Profile','Family','states','habitat', 'feeding', 'threat','image']]"
   ]
  },
  {
   "cell_type": "code",
   "execution_count": null,
   "metadata": {
    "colab": {
     "base_uri": "https://localhost:8080/",
     "height": 712
    },
    "colab_type": "code",
    "executionInfo": {
     "elapsed": 1711,
     "status": "ok",
     "timestamp": 1586618264946,
     "user": {
      "displayName": "Chandra Teja",
      "photoUrl": "https://lh4.googleusercontent.com/-amI93dQ6WGc/AAAAAAAAAAI/AAAAAAAACBU/WfH8I8yFCGM/s64/photo.jpg",
      "userId": "09343536483693696452"
     },
     "user_tz": -600
    },
    "id": "au9v5dZn6Hj0",
    "outputId": "c4f333c9-4ba3-4d9f-f490-349dcbaf997a"
   },
   "outputs": [],
   "source": [
    "main_df.head()"
   ]
  },
  {
   "cell_type": "code",
   "execution_count": null,
   "metadata": {
    "colab": {},
    "colab_type": "code",
    "id": "doZdcuF50aEr"
   },
   "outputs": [],
   "source": [
    "main_df.to_csv('endangered_animals.csv')"
   ]
  },
  {
   "cell_type": "markdown",
   "metadata": {
    "colab": {},
    "colab_type": "code",
    "id": "ReYgQIfP6Hj5"
   },
   "source": [
    "### Threatened Fauna From EPBC  Dataset"
   ]
  },
  {
   "cell_type": "code",
   "execution_count": 81,
   "metadata": {
    "colab": {
     "base_uri": "https://localhost:8080/",
     "height": 396
    },
    "colab_type": "code",
    "executionInfo": {
     "elapsed": 1030,
     "status": "error",
     "timestamp": 1586618545185,
     "user": {
      "displayName": "Chandra Teja",
      "photoUrl": "https://lh4.googleusercontent.com/-amI93dQ6WGc/AAAAAAAAAAI/AAAAAAAACBU/WfH8I8yFCGM/s64/photo.jpg",
      "userId": "09343536483693696452"
     },
     "user_tz": -600
    },
    "id": "DdGaVSQr6Hj7",
    "outputId": "eaa35f2c-93f3-4cfe-897f-3a8765741a07"
   },
   "outputs": [
    {
     "name": "stderr",
     "output_type": "stream",
     "text": [
      "C:\\Users\\V.PAVAN\\Anaconda3\\envs\\rstudio\\lib\\site-packages\\IPython\\core\\interactiveshell.py:3044: DtypeWarning: Columns (26,27,42) have mixed types.Specify dtype option on import or set low_memory=False.\n",
      "  interactivity=interactivity, compiler=compiler, result=result)\n"
     ]
    }
   ],
   "source": [
    "fauna = pd.read_csv(\"Threatened_Fauna_EPBC_2018.csv\")"
   ]
  },
  {
   "cell_type": "code",
   "execution_count": 82,
   "metadata": {
    "colab": {},
    "colab_type": "code",
    "id": "5A6XQ5Fc6HkE",
    "outputId": "bb21d6d7-e2b8-4d79-e723-e8f235ad6066",
    "scrolled": true
   },
   "outputs": [
    {
     "data": {
      "text/plain": [
       "Index(['Record ID', 'Catalogue Number', 'Taxon Concept GUID',\n",
       "       'Scientific Name - original', 'Vernacular name - original',\n",
       "       'Scientific Name', 'Taxon Rank', 'Vernacular name', 'Kingdom', 'Phylum',\n",
       "       'Class', 'Order', 'Family', 'Genus', 'Species', 'Subspecies',\n",
       "       'Data Resource ID', 'Data Resource Name', 'Institution ID',\n",
       "       'Institution', 'Collection ID', 'Collection', 'Licence',\n",
       "       'Institution Code', 'Collection Code', 'Locality',\n",
       "       'Latitude - original', 'Longitude - original',\n",
       "       'Geodetic datum - original', 'Latitude', 'Longitude',\n",
       "       'Coordinate Precision', 'Coordinate Uncertainty in Metres',\n",
       "       'Country - parsed', 'State - parsed', 'Local Government Areas 2011',\n",
       "       'IMCRA 4 Regions', 'IBRA 7 Regions', 'Minimum elevation in meters',\n",
       "       'Maximum elevation in meters', 'Minimum depth in meters',\n",
       "       'Maximum depth in meters', 'Individual count', 'Collector', 'Year',\n",
       "       'Month', 'Day', 'Event Date - parsed', 'Verbatim event date',\n",
       "       'Basis Of Record - original', 'Basis Of Record', 'Occurrence status',\n",
       "       'Sex', 'Preparations', 'Outlier for layer', 'Taxonomic Quality',\n",
       "       'Location Quality', 'Altitude value supplied in feet',\n",
       "       'Occurrence status assumed to be present',\n",
       "       'Basis of record badly formed', 'Coordinate precision not valid',\n",
       "       'Supplied coordinates centre of state',\n",
       "       'Coordinates are out of range for species',\n",
       "       'Coordinates dont match supplied country',\n",
       "       'Country inferred from coordinates', 'Data are generalised',\n",
       "       'Coordinates converted from UTM',\n",
       "       'Coordinates derived from verbatim coordinates',\n",
       "       'Coordinates converted to WGS84', 'Depth value non-numeric',\n",
       "       'First of the century', 'First of the month', 'First of the year',\n",
       "       'Geodetic datum assumed WGS84', 'Georeferenced after occurrence date',\n",
       "       'Habitat incorrect for species',\n",
       "       'Identification date before occurrence date',\n",
       "       'Incomplete collection date', 'Invalid collection date',\n",
       "       'Coordinates are transposed', 'Latitude is negated',\n",
       "       'Precision / range mismatch', 'Collector name unparseable',\n",
       "       'Coordinates dont match supplied state',\n",
       "       'Coordinate precision and uncertainty transposed',\n",
       "       'Coordinate uncertainty not valid', 'Supplied country not recognised',\n",
       "       'Kingdom not recognised', 'Collection code not recognised',\n",
       "       'Institution code not recognised', 'unrecognised Occurrence Status',\n",
       "       'Unrecognized geodetic datum', 'Supplied coordinates are zero',\n",
       "       'Zero latitude', 'Zero longitude'],\n",
       "      dtype='object')"
      ]
     },
     "execution_count": 82,
     "metadata": {},
     "output_type": "execute_result"
    }
   ],
   "source": [
    "fauna.columns"
   ]
  },
  {
   "cell_type": "code",
   "execution_count": 83,
   "metadata": {
    "colab": {},
    "colab_type": "code",
    "id": "McN8gYxi6HkI"
   },
   "outputs": [],
   "source": [
    "fauna = fauna[fauna['Country - parsed'] == \"Australia\"]"
   ]
  },
  {
   "cell_type": "code",
   "execution_count": null,
   "metadata": {
    "colab": {},
    "colab_type": "code",
    "id": "K5Fp0s-j6HkK"
   },
   "outputs": [],
   "source": [
    "#cols = ['Scientific Name',  'Vernacular name','Class', 'Family', 'Latitude', 'Longitude','Country - parsed', 'State - parsed', 'Local Government Areas 2011','IMCRA 4 Regions', 'IBRA 7 Regions', 'Individual count']"
   ]
  },
  {
   "cell_type": "code",
   "execution_count": 84,
   "metadata": {
    "colab": {},
    "colab_type": "code",
    "id": "iw9Lce6q6HkM"
   },
   "outputs": [],
   "source": [
    "fauna = fauna[['Scientific Name',  'Vernacular name','Class', 'Family', 'Latitude', 'Longitude','Country - parsed', 'State - parsed', 'Local Government Areas 2011','IMCRA 4 Regions', 'IBRA 7 Regions', 'Individual count']]"
   ]
  },
  {
   "cell_type": "code",
   "execution_count": 85,
   "metadata": {
    "colab": {},
    "colab_type": "code",
    "id": "lEN7WuRR6HkP"
   },
   "outputs": [],
   "source": [
    "fauna[['IMCRA 4 Regions','IBRA 7 Regions']] = fauna[['IMCRA 4 Regions','IBRA 7 Regions']].fillna('')"
   ]
  },
  {
   "cell_type": "code",
   "execution_count": 86,
   "metadata": {
    "colab": {},
    "colab_type": "code",
    "id": "MNJBXhU36HkS"
   },
   "outputs": [],
   "source": [
    "fauna['Region'] = fauna['IMCRA 4 Regions'] + fauna['IBRA 7 Regions']"
   ]
  },
  {
   "cell_type": "code",
   "execution_count": 87,
   "metadata": {
    "colab": {},
    "colab_type": "code",
    "id": "VedjaOs76HkU"
   },
   "outputs": [],
   "source": [
    "del fauna['IMCRA 4 Regions']\n",
    "del fauna['IBRA 7 Regions']"
   ]
  },
  {
   "cell_type": "code",
   "execution_count": 89,
   "metadata": {
    "colab": {},
    "colab_type": "code",
    "id": "EzJoEfzd6HkX",
    "outputId": "66f4c224-ca41-491a-ac3b-5ed879afe475"
   },
   "outputs": [
    {
     "data": {
      "text/plain": [
       "(361170, 11)"
      ]
     },
     "execution_count": 89,
     "metadata": {},
     "output_type": "execute_result"
    }
   ],
   "source": [
    "fauna.shape"
   ]
  },
  {
   "cell_type": "code",
   "execution_count": 90,
   "metadata": {
    "colab": {},
    "colab_type": "code",
    "id": "JrABbKMe6HkY"
   },
   "outputs": [],
   "source": [
    "fauna = fauna.drop_duplicates(subset='Scientific Name', keep=\"last\")"
   ]
  },
  {
   "cell_type": "code",
   "execution_count": 91,
   "metadata": {
    "colab": {},
    "colab_type": "code",
    "id": "GObFSPpu6Hkb"
   },
   "outputs": [],
   "source": [
    "fauna.reset_index(drop=True, inplace=True)"
   ]
  },
  {
   "cell_type": "code",
   "execution_count": 92,
   "metadata": {
    "colab": {},
    "colab_type": "code",
    "id": "J4Q_gRgF6Hkd",
    "outputId": "6ecd4ff6-3a40-4a56-a7da-12a7a15972f4"
   },
   "outputs": [
    {
     "data": {
      "text/html": [
       "<div>\n",
       "<style scoped>\n",
       "    .dataframe tbody tr th:only-of-type {\n",
       "        vertical-align: middle;\n",
       "    }\n",
       "\n",
       "    .dataframe tbody tr th {\n",
       "        vertical-align: top;\n",
       "    }\n",
       "\n",
       "    .dataframe thead th {\n",
       "        text-align: right;\n",
       "    }\n",
       "</style>\n",
       "<table border=\"1\" class=\"dataframe\">\n",
       "  <thead>\n",
       "    <tr style=\"text-align: right;\">\n",
       "      <th></th>\n",
       "      <th>Scientific Name</th>\n",
       "      <th>Vernacular name</th>\n",
       "      <th>Class</th>\n",
       "      <th>Family</th>\n",
       "      <th>Latitude</th>\n",
       "      <th>Longitude</th>\n",
       "      <th>Country - parsed</th>\n",
       "      <th>State - parsed</th>\n",
       "      <th>Local Government Areas 2011</th>\n",
       "      <th>Individual count</th>\n",
       "      <th>Region</th>\n",
       "    </tr>\n",
       "  </thead>\n",
       "  <tbody>\n",
       "    <tr>\n",
       "      <th>0</th>\n",
       "      <td>Mathewsoconcha grayi ms</td>\n",
       "      <td>NaN</td>\n",
       "      <td>Gastropoda</td>\n",
       "      <td>Euconulidae</td>\n",
       "      <td>-9.568370</td>\n",
       "      <td>143.649120</td>\n",
       "      <td>Australia</td>\n",
       "      <td>Queensland</td>\n",
       "      <td>NaN</td>\n",
       "      <td>NaN</td>\n",
       "      <td>Northeast Shelf Transition</td>\n",
       "    </tr>\n",
       "    <tr>\n",
       "      <th>1</th>\n",
       "      <td>Dasyornis (Dasyornis) brachypterus monoides</td>\n",
       "      <td>NaN</td>\n",
       "      <td>Aves</td>\n",
       "      <td>Dasyornithidae</td>\n",
       "      <td>-28.816000</td>\n",
       "      <td>152.983000</td>\n",
       "      <td>Australia</td>\n",
       "      <td>New South Wales</td>\n",
       "      <td>Richmond Valley (A)</td>\n",
       "      <td>NaN</td>\n",
       "      <td>South Eastern Queensland</td>\n",
       "    </tr>\n",
       "    <tr>\n",
       "      <th>2</th>\n",
       "      <td>Pseudococcus markharveyi</td>\n",
       "      <td>NaN</td>\n",
       "      <td>Insecta</td>\n",
       "      <td>Pseudococcidae</td>\n",
       "      <td>-34.400000</td>\n",
       "      <td>118.300000</td>\n",
       "      <td>Australia</td>\n",
       "      <td>Western Australia</td>\n",
       "      <td>Gnowangerup (S)</td>\n",
       "      <td>1</td>\n",
       "      <td>Esperance Plains</td>\n",
       "    </tr>\n",
       "    <tr>\n",
       "      <th>3</th>\n",
       "      <td>Lepidodactylus listeri</td>\n",
       "      <td>Christmas Island Gecko</td>\n",
       "      <td>Reptilia</td>\n",
       "      <td>Gekkonidae</td>\n",
       "      <td>NaN</td>\n",
       "      <td>NaN</td>\n",
       "      <td>Australia</td>\n",
       "      <td>Western Australia</td>\n",
       "      <td>NaN</td>\n",
       "      <td>NaN</td>\n",
       "      <td></td>\n",
       "    </tr>\n",
       "    <tr>\n",
       "      <th>4</th>\n",
       "      <td>Cyrtodactylus sadleiri</td>\n",
       "      <td>NaN</td>\n",
       "      <td>Reptilia</td>\n",
       "      <td>Gekkonidae</td>\n",
       "      <td>NaN</td>\n",
       "      <td>NaN</td>\n",
       "      <td>Australia</td>\n",
       "      <td>Western Australia</td>\n",
       "      <td>NaN</td>\n",
       "      <td>NaN</td>\n",
       "      <td></td>\n",
       "    </tr>\n",
       "    <tr>\n",
       "      <th>...</th>\n",
       "      <td>...</td>\n",
       "      <td>...</td>\n",
       "      <td>...</td>\n",
       "      <td>...</td>\n",
       "      <td>...</td>\n",
       "      <td>...</td>\n",
       "      <td>...</td>\n",
       "      <td>...</td>\n",
       "      <td>...</td>\n",
       "      <td>...</td>\n",
       "      <td>...</td>\n",
       "    </tr>\n",
       "    <tr>\n",
       "      <th>180</th>\n",
       "      <td>Calidris (Calidris) tenuirostris</td>\n",
       "      <td>Great Knot</td>\n",
       "      <td>Aves</td>\n",
       "      <td>Scolopacidae</td>\n",
       "      <td>-25.958166</td>\n",
       "      <td>153.007317</td>\n",
       "      <td>Australia</td>\n",
       "      <td>Queensland</td>\n",
       "      <td>NaN</td>\n",
       "      <td>6</td>\n",
       "      <td>Central Eastern Shelf Transition</td>\n",
       "    </tr>\n",
       "    <tr>\n",
       "      <th>181</th>\n",
       "      <td>Mixophyes fleayi</td>\n",
       "      <td>Fleay's Frog</td>\n",
       "      <td>Amphibia</td>\n",
       "      <td>Myobatrachidae</td>\n",
       "      <td>-28.200000</td>\n",
       "      <td>153.100000</td>\n",
       "      <td>Australia</td>\n",
       "      <td>Queensland</td>\n",
       "      <td>Scenic Rim (R)</td>\n",
       "      <td>NaN</td>\n",
       "      <td>South Eastern Queensland</td>\n",
       "    </tr>\n",
       "    <tr>\n",
       "      <th>182</th>\n",
       "      <td>Dasyornis (Dasyornis) brachypterus</td>\n",
       "      <td>Eastern Bristlebird</td>\n",
       "      <td>Aves</td>\n",
       "      <td>Dasyornithidae</td>\n",
       "      <td>-35.100000</td>\n",
       "      <td>150.600000</td>\n",
       "      <td>Australia</td>\n",
       "      <td>New South Wales</td>\n",
       "      <td>NaN</td>\n",
       "      <td>NaN</td>\n",
       "      <td>Sydney Basin</td>\n",
       "    </tr>\n",
       "    <tr>\n",
       "      <th>183</th>\n",
       "      <td>Calidris canutus ( (Linnaeus), 1758) canutus</td>\n",
       "      <td>Huahou</td>\n",
       "      <td>Aves</td>\n",
       "      <td>Scolopacidae</td>\n",
       "      <td>-34.362220</td>\n",
       "      <td>137.992780</td>\n",
       "      <td>Australia</td>\n",
       "      <td>South Australia</td>\n",
       "      <td>Yorke Peninsula (DC)</td>\n",
       "      <td>320</td>\n",
       "      <td>Eyre Yorke Block</td>\n",
       "    </tr>\n",
       "    <tr>\n",
       "      <th>184</th>\n",
       "      <td>Calidris (Erolia) ferruginea</td>\n",
       "      <td>Curlew Sandpiper</td>\n",
       "      <td>Aves</td>\n",
       "      <td>Scolopacidae</td>\n",
       "      <td>-38.081829</td>\n",
       "      <td>144.517985</td>\n",
       "      <td>Australia</td>\n",
       "      <td>Victoria</td>\n",
       "      <td>NaN</td>\n",
       "      <td>NaN</td>\n",
       "      <td>Bass Strait Shelf Province</td>\n",
       "    </tr>\n",
       "  </tbody>\n",
       "</table>\n",
       "<p>185 rows × 11 columns</p>\n",
       "</div>"
      ],
      "text/plain": [
       "                                  Scientific Name         Vernacular name  \\\n",
       "0                         Mathewsoconcha grayi ms                     NaN   \n",
       "1     Dasyornis (Dasyornis) brachypterus monoides                     NaN   \n",
       "2                        Pseudococcus markharveyi                     NaN   \n",
       "3                          Lepidodactylus listeri  Christmas Island Gecko   \n",
       "4                          Cyrtodactylus sadleiri                     NaN   \n",
       "..                                            ...                     ...   \n",
       "180              Calidris (Calidris) tenuirostris              Great Knot   \n",
       "181                              Mixophyes fleayi            Fleay's Frog   \n",
       "182            Dasyornis (Dasyornis) brachypterus     Eastern Bristlebird   \n",
       "183  Calidris canutus ( (Linnaeus), 1758) canutus                  Huahou   \n",
       "184                  Calidris (Erolia) ferruginea        Curlew Sandpiper   \n",
       "\n",
       "          Class          Family   Latitude   Longitude Country - parsed  \\\n",
       "0    Gastropoda     Euconulidae  -9.568370  143.649120        Australia   \n",
       "1          Aves  Dasyornithidae -28.816000  152.983000        Australia   \n",
       "2       Insecta  Pseudococcidae -34.400000  118.300000        Australia   \n",
       "3      Reptilia      Gekkonidae        NaN         NaN        Australia   \n",
       "4      Reptilia      Gekkonidae        NaN         NaN        Australia   \n",
       "..          ...             ...        ...         ...              ...   \n",
       "180        Aves    Scolopacidae -25.958166  153.007317        Australia   \n",
       "181    Amphibia  Myobatrachidae -28.200000  153.100000        Australia   \n",
       "182        Aves  Dasyornithidae -35.100000  150.600000        Australia   \n",
       "183        Aves    Scolopacidae -34.362220  137.992780        Australia   \n",
       "184        Aves    Scolopacidae -38.081829  144.517985        Australia   \n",
       "\n",
       "        State - parsed Local Government Areas 2011 Individual count  \\\n",
       "0           Queensland                         NaN              NaN   \n",
       "1      New South Wales         Richmond Valley (A)              NaN   \n",
       "2    Western Australia             Gnowangerup (S)                1   \n",
       "3    Western Australia                         NaN              NaN   \n",
       "4    Western Australia                         NaN              NaN   \n",
       "..                 ...                         ...              ...   \n",
       "180         Queensland                         NaN                6   \n",
       "181         Queensland              Scenic Rim (R)              NaN   \n",
       "182    New South Wales                         NaN              NaN   \n",
       "183    South Australia        Yorke Peninsula (DC)              320   \n",
       "184           Victoria                         NaN              NaN   \n",
       "\n",
       "                               Region  \n",
       "0          Northeast Shelf Transition  \n",
       "1            South Eastern Queensland  \n",
       "2                    Esperance Plains  \n",
       "3                                      \n",
       "4                                      \n",
       "..                                ...  \n",
       "180  Central Eastern Shelf Transition  \n",
       "181          South Eastern Queensland  \n",
       "182                      Sydney Basin  \n",
       "183                  Eyre Yorke Block  \n",
       "184        Bass Strait Shelf Province  \n",
       "\n",
       "[185 rows x 11 columns]"
      ]
     },
     "execution_count": 92,
     "metadata": {},
     "output_type": "execute_result"
    }
   ],
   "source": [
    "fauna "
   ]
  },
  {
   "cell_type": "code",
   "execution_count": null,
   "metadata": {
    "colab": {},
    "colab_type": "code",
    "id": "PpJBPpY76Hkf"
   },
   "outputs": [],
   "source": []
  },
  {
   "cell_type": "code",
   "execution_count": null,
   "metadata": {
    "colab": {},
    "colab_type": "code",
    "id": "iL2HBIMu6Hkp",
    "outputId": "7c5d6bb0-51c6-4f8f-89af-d95bc8f5f80b"
   },
   "outputs": [],
   "source": [
    "govt_data.columns"
   ]
  },
  {
   "cell_type": "markdown",
   "metadata": {
    "colab": {},
    "colab_type": "code",
    "id": "JsXI6jOU6Hkr"
   },
   "source": [
    "## shape file dataset"
   ]
  },
  {
   "cell_type": "code",
   "execution_count": 111,
   "metadata": {},
   "outputs": [],
   "source": [
    "new_df = pd.read_csv(\"endangered_animals.csv\") "
   ]
  },
  {
   "cell_type": "code",
   "execution_count": null,
   "metadata": {
    "colab": {},
    "colab_type": "code",
    "id": "dbySDyq06Hkv"
   },
   "outputs": [],
   "source": [
    "shape_file = gpd.read_file(\"snes_public_grids_08Aug2019_shapefile/snes_species_combined.shp\")"
   ]
  },
  {
   "cell_type": "code",
   "execution_count": null,
   "metadata": {},
   "outputs": [],
   "source": [
    "shape_file.columns"
   ]
  },
  {
   "cell_type": "code",
   "execution_count": null,
   "metadata": {
    "colab": {},
    "colab_type": "code",
    "id": "vyQh17MN6Hky"
   },
   "outputs": [],
   "source": [
    "suburb = gpd.read_file(\"vic_locality_polygon_shp/VIC_LOCALITY_POLYGON_shp.shp\")"
   ]
  },
  {
   "cell_type": "code",
   "execution_count": null,
   "metadata": {
    "colab": {},
    "colab_type": "code",
    "id": "D3hxPKUl6Hk5"
   },
   "outputs": [],
   "source": [
    "shape_file['lower_name'] = shape_file['sci_name'].str.lower()"
   ]
  },
  {
   "cell_type": "markdown",
   "metadata": {},
   "source": [
    "### Merging for Endangered Species"
   ]
  },
  {
   "cell_type": "code",
   "execution_count": null,
   "metadata": {
    "colab": {},
    "colab_type": "code",
    "id": "-_XB0AJg6Hk7"
   },
   "outputs": [],
   "source": [
    "#Create lowercase for all the scientific names\n",
    "new_df['lower_name'] = new_df['Scientific Name'].str.lower()\n",
    "\n",
    "#Performing the inner join\n",
    "locations = pd.merge(new_df[['lower_name','Common Name','Threatened status','Profile']],shape_file[['lower_name','listed_id','sci_name', 'threatened','tax_class', 'tax_phylum', 'regions', 'attributio', 'sprat_prof', 'geometry']],on='lower_name',how='inner')"
   ]
  },
  {
   "cell_type": "code",
   "execution_count": null,
   "metadata": {},
   "outputs": [],
   "source": [
    "locations.to_csv(\"map_data.csv\")"
   ]
  },
  {
   "cell_type": "markdown",
   "metadata": {},
   "source": [
    "### Merging for the ACT Data "
   ]
  },
  {
   "cell_type": "code",
   "execution_count": null,
   "metadata": {},
   "outputs": [],
   "source": [
    "results_df.head()"
   ]
  },
  {
   "cell_type": "code",
   "execution_count": null,
   "metadata": {},
   "outputs": [],
   "source": [
    "results_df['lower_name'] = results_df['scientificname'].str.lower()\n",
    "\n",
    "#Performing the inner join\n",
    "act_locations = pd.merge(results_df[['lower_name','location_1']],shape_file[['lower_name','listed_id','sci_name', 'threatened','tax_class', 'tax_phylum', 'regions', 'attributio', 'sprat_prof', 'geometry']],on='lower_name',how='inner')"
   ]
  },
  {
   "cell_type": "code",
   "execution_count": null,
   "metadata": {
    "scrolled": true
   },
   "outputs": [],
   "source": [
    "act_locations.to_csv(\"act_locations.csv\")"
   ]
  },
  {
   "cell_type": "markdown",
   "metadata": {},
   "source": [
    "### Merging for Melbourne Data "
   ]
  },
  {
   "cell_type": "code",
   "execution_count": null,
   "metadata": {},
   "outputs": [],
   "source": [
    "mel_df.head()"
   ]
  },
  {
   "cell_type": "code",
   "execution_count": 98,
   "metadata": {},
   "outputs": [],
   "source": [
    "mel_df['lower_name'] = mel_df['scientific_name'].str.lower()\n",
    "\n",
    "#Performing the inner join\n",
    "mel_locations = pd.merge(mel_df[['lower_name','animal_type','latitude','longitude']],shape_file[['lower_name','listed_id','sci_name', 'threatened','tax_class', 'tax_phylum', 'regions', 'attributio', 'sprat_prof', 'geometry']],on='lower_name',how='inner')"
   ]
  },
  {
   "cell_type": "markdown",
   "metadata": {},
   "source": [
    "### Merging for Fauna Data"
   ]
  },
  {
   "cell_type": "code",
   "execution_count": 99,
   "metadata": {},
   "outputs": [],
   "source": [
    "fauna['lower_name'] = fauna['Scientific Name'].str.lower()\n",
    "\n",
    "#Performing the inner join\n",
    "fauna_locations = pd.merge(fauna[['lower_name','State - parsed','Class','Latitude','Longitude']],shape_file[['lower_name','listed_id','sci_name', 'threatened','tax_class', 'tax_phylum', 'regions', 'attributio', 'sprat_prof', 'geometry']],on='lower_name',how='inner')"
   ]
  },
  {
   "cell_type": "code",
   "execution_count": 101,
   "metadata": {},
   "outputs": [],
   "source": [
    "fauna_locations.to_csv(\"fauna_locations.csv\")"
   ]
  },
  {
   "cell_type": "code",
   "execution_count": null,
   "metadata": {},
   "outputs": [],
   "source": []
  },
  {
   "cell_type": "markdown",
   "metadata": {},
   "source": [
    "##### Region specific -- Suburb information "
   ]
  },
  {
   "cell_type": "code",
   "execution_count": null,
   "metadata": {
    "colab": {},
    "colab_type": "code",
    "id": "GvMLnmRo6Hk8"
   },
   "outputs": [],
   "source": [
    "from shapely.geometry import shape, mapping, Polygon, MultiPolygon, Point"
   ]
  },
  {
   "cell_type": "code",
   "execution_count": null,
   "metadata": {
    "colab": {},
    "colab_type": "code",
    "id": "9lYd-vPu6HlA"
   },
   "outputs": [],
   "source": [
    "new_df = gpd.GeoDataFrame(locations,geometry = \"geometry\")\n",
    "new_df.crs = {'init':'epsg:4326'}"
   ]
  },
  {
   "cell_type": "code",
   "execution_count": null,
   "metadata": {
    "colab": {},
    "colab_type": "code",
    "id": "kSVp16I26HlB"
   },
   "outputs": [],
   "source": [
    "outdf = gpd.GeoDataFrame(columns=new_df.columns)\n",
    "for idx,row in new_df.iterrows():\n",
    "    #print(row)\n",
    "    if type(row.geometry) == MultiPolygon:\n",
    "        multdf = gpd.GeoDataFrame(columns = new_df.columns)\n",
    "        recs = len(row.geometry)\n",
    "        multdf = multdf.append([row]*recs,ignore_index=True)\n",
    "        for geom in range(recs):\n",
    "            multdf.loc[geom,'geometry'] = row.geometry[geom]\n",
    "        outdf = outdf.append(multdf,ignore_index=True)\n",
    "    if type(row.geometry) == Polygon:\n",
    "        outdf = outdf.append(row,ignore_index=True)\n",
    "           "
   ]
  },
  {
   "cell_type": "code",
   "execution_count": null,
   "metadata": {
    "colab": {},
    "colab_type": "code",
    "id": "eUdg5ARn6HlE"
   },
   "outputs": [],
   "source": [
    "new_df=gpd.GeoDataFrame(outdf,geometry='geometry')#adding the point objects as a column to the dataframe.\n",
    "new_df.crs={'init' :'epsg:4326'}\n"
   ]
  },
  {
   "cell_type": "code",
   "execution_count": null,
   "metadata": {
    "colab": {},
    "colab_type": "code",
    "id": "thAwkaTg6HlF",
    "outputId": "8110b995-e3f8-4bd7-c8a8-7c528b903bb1"
   },
   "outputs": [],
   "source": [
    "new_df.head()"
   ]
  },
  {
   "cell_type": "code",
   "execution_count": null,
   "metadata": {
    "colab": {},
    "colab_type": "code",
    "id": "y4-98Ylv6HlI",
    "outputId": "087f7f4c-213e-4f7d-ab96-c37131b2177f"
   },
   "outputs": [],
   "source": [
    "\n",
    "\n",
    "#Getting only the suburb name and the geometry of from the dataframe.\n",
    "sdf = gpd.GeoDataFrame(suburb)\n",
    "sdf1=sdf[['VIC_LOCA_2','geometry']]\n",
    "sdf1.set_geometry('geometry')\n",
    "sdf1.crs={'init' :'epsg:4326'}#Setting up the coordinate refernce system.\n",
    "sdf1.head()#sdf1 is the suburb with shape files.\n",
    "\n",
    "\n",
    "df_suburb=gpd.sjoin(new_df,sdf1,how='left',op='within')\n",
    "df=pd.DataFrame(df_suburb)#Converting the geodataframe to the pandas dataframe for further manipulations\n",
    "df=df.drop(['index_right'],axis=1)\n",
    "df.rename(columns={'VIC_LOCA_2':'suburb'},inplace=True)#renaming the columns\n",
    "df.head()"
   ]
  },
  {
   "cell_type": "code",
   "execution_count": null,
   "metadata": {
    "colab": {},
    "colab_type": "code",
    "id": "g8UcDSAz6HlL",
    "outputId": "32c09f1f-d08e-4ecc-82ff-a16c6d46dbd0"
   },
   "outputs": [],
   "source": [
    "len(df.dropna(subset=[\"suburb\"])[\"lower_name\"].unique())"
   ]
  },
  {
   "cell_type": "code",
   "execution_count": null,
   "metadata": {
    "colab": {},
    "colab_type": "code",
    "id": "ffi6yJWc1SKY"
   },
   "outputs": [],
   "source": []
  },
  {
   "cell_type": "code",
   "execution_count": null,
   "metadata": {},
   "outputs": [],
   "source": []
  },
  {
   "cell_type": "markdown",
   "metadata": {},
   "source": [
    "##### Ifrmae KMV Data "
   ]
  },
  {
   "cell_type": "code",
   "execution_count": 241,
   "metadata": {},
   "outputs": [],
   "source": [
    "from IPython.display import HTML"
   ]
  },
  {
   "cell_type": "code",
   "execution_count": 110,
   "metadata": {},
   "outputs": [
    {
     "data": {
      "text/html": [
       "<iframe src=\"https://www.google.com/maps/d/embed?mid=1_XeEGRPzee57Rn0wNssbgm5C6aVUOdSs\" width=\"800\" height=\"480\"></iframe>"
      ],
      "text/plain": [
       "<IPython.core.display.HTML object>"
      ]
     },
     "execution_count": 110,
     "metadata": {},
     "output_type": "execute_result"
    }
   ],
   "source": [
    "\n",
    "HTML('<iframe src=\"https://www.google.com/maps/d/embed?mid=1_XeEGRPzee57Rn0wNssbgm5C6aVUOdSs\" width=\"800\" height=\"480\"></iframe>')"
   ]
  },
  {
   "cell_type": "code",
   "execution_count": 242,
   "metadata": {},
   "outputs": [
    {
     "name": "stderr",
     "output_type": "stream",
     "text": [
      "C:\\Users\\V.PAVAN\\Anaconda3\\envs\\rstudio\\lib\\site-packages\\IPython\\core\\display.py:689: UserWarning: Consider using IPython.display.IFrame instead\n",
      "  warnings.warn(\"Consider using IPython.display.IFrame instead\")\n"
     ]
    },
    {
     "data": {
      "text/html": [
       "<iframe src=\"https://www.google.com/maps/d/embed?mid=1Lgbb-MCcvWO9rFy9aWizA6JdNoPlq4Hw\" width=\"800\" height=\"480\"></iframe>"
      ],
      "text/plain": [
       "<IPython.core.display.HTML object>"
      ]
     },
     "execution_count": 242,
     "metadata": {},
     "output_type": "execute_result"
    }
   ],
   "source": [
    "HTML('<iframe src=\"https://www.google.com/maps/d/embed?mid=1Lgbb-MCcvWO9rFy9aWizA6JdNoPlq4Hw\" width=\"800\" height=\"480\"></iframe>')"
   ]
  },
  {
   "cell_type": "code",
   "execution_count": null,
   "metadata": {},
   "outputs": [],
   "source": []
  },
  {
   "cell_type": "markdown",
   "metadata": {},
   "source": [
    "##### Working on the shape file "
   ]
  },
  {
   "cell_type": "code",
   "execution_count": 145,
   "metadata": {},
   "outputs": [],
   "source": [
    "sci_names = list(shape_file['sci_name'].unique())"
   ]
  },
  {
   "cell_type": "code",
   "execution_count": 154,
   "metadata": {},
   "outputs": [
    {
     "data": {
      "text/plain": [
       "Index(['OBJECTID', 'Shape_Leng', 'Shape_Area', 'listed_id', 'map_id',\n",
       "       'sci_name', 'comm_name', 'threatened', 'migratory', 'pres_rank',\n",
       "       'category', 'extracted', 'tax_group', 'tax_family', 'tax_order',\n",
       "       'tax_class', 'tax_phylum', 'tax_king', 'other_ids', 'cell_size',\n",
       "       'regions', 'attributio', 'sprat_prof', 'geometry', 'lower_name'],\n",
       "      dtype='object')"
      ]
     },
     "execution_count": 154,
     "metadata": {},
     "output_type": "execute_result"
    }
   ],
   "source": [
    "shape_file.columns"
   ]
  },
  {
   "cell_type": "code",
   "execution_count": 150,
   "metadata": {},
   "outputs": [],
   "source": [
    "new_file = shape_file.drop_duplicates(subset=['sci_name'])"
   ]
  },
  {
   "cell_type": "code",
   "execution_count": 160,
   "metadata": {
    "scrolled": true
   },
   "outputs": [],
   "source": [
    "new_file = new_file[['listed_id','sci_name', 'comm_name', 'threatened','migratory','tax_group', 'tax_family','tax_order','tax_class','regions','sprat_prof', 'geometry']]"
   ]
  },
  {
   "cell_type": "code",
   "execution_count": 167,
   "metadata": {},
   "outputs": [],
   "source": [
    "new_file.to_csv(\"species_shape.csv\")"
   ]
  },
  {
   "cell_type": "code",
   "execution_count": null,
   "metadata": {},
   "outputs": [],
   "source": [
    "species_file = new_file[new_file['tax_group'] != \"flora\"]"
   ]
  },
  {
   "cell_type": "code",
   "execution_count": null,
   "metadata": {},
   "outputs": [],
   "source": [
    "species_file.reset_index(drop=True, inplace=True)"
   ]
  },
  {
   "cell_type": "code",
   "execution_count": 172,
   "metadata": {},
   "outputs": [],
   "source": [
    "del species_file['Unnamed: 0']"
   ]
  },
  {
   "cell_type": "code",
   "execution_count": null,
   "metadata": {},
   "outputs": [],
   "source": [
    "species_file['habitat'] = \"\"\n",
    "species_file['feeding'] = \"\"\n",
    "species_file['threat'] = \"\"\n",
    "species_file['image'] = \"\"\n",
    "species_file['Description'] = \"\""
   ]
  },
  {
   "cell_type": "code",
   "execution_count": null,
   "metadata": {},
   "outputs": [],
   "source": [
    "profiles = species_file[\"sprat_prof\"]\n",
    "for i in range(len(profiles)):\n",
    "    profile = extract(profiles[i])\n",
    "    species_file['habitat'][i] = profile[0]\n",
    "    species_file['feeding'][i] = profile[1]\n",
    "    species_file['threat'][i] = profile[2]\n",
    "    species_file['image'][i] = [x for x in list(set(profile[3])) if x.startswith('Google')]\n",
    "    species_file['Description'][i] = profile[4][0] if len(desc) > 0 else profile[4]"
   ]
  },
  {
   "cell_type": "code",
   "execution_count": null,
   "metadata": {},
   "outputs": [],
   "source": [
    "species_file.to_csv(\"species_file.csv\")"
   ]
  },
  {
   "cell_type": "code",
   "execution_count": null,
   "metadata": {},
   "outputs": [],
   "source": []
  },
  {
   "cell_type": "markdown",
   "metadata": {},
   "source": [
    "### Image Handling:"
   ]
  },
  {
   "cell_type": "code",
   "execution_count": null,
   "metadata": {},
   "outputs": [],
   "source": [
    "def get_comm_images(name):\n",
    "    except_list = []\n",
    "    try:\n",
    "        comm_page = wikipedia.page(name)\n",
    "    except:\n",
    "        print(name+' '+'created comm error')\n",
    "        return except_list\n",
    "    comm_images=[]\n",
    "    for value in list(comm_page.images):\n",
    "        if 'jpg' in value:\n",
    "            comm_images.append(value)\n",
    "        else:\n",
    "            continue\n",
    "    return comm_images\n",
    "    \n",
    "def comm_split(com):\n",
    "    \n",
    "    if ',' in com:\n",
    "        com_names = com.split(',')\n",
    "        # count = len(com_names)\n",
    "        mid_images = []\n",
    "        for midimg in com_names:\n",
    "            check_mid = get_comm_images(midimg)\n",
    "            if len(check_mid) > 0:\n",
    "                return check_mid\n",
    "            else:\n",
    "                continue\n",
    "        return mid_images\n",
    "    else:\n",
    "        return(get_comm_images(com))\n",
    "\n",
    "\n",
    "def get_images(x):\n",
    "    sci_name = x['Scientific_Name']\n",
    "    comm_name = x['Common_Name']\n",
    "    exception_list = []\n",
    "    sci_exflag = 0\n",
    "    sci_images_return = []\n",
    "    try:\n",
    "        wiki_page_sci = wikipedia.page(sci_name) #Get the page for the sci_name\n",
    "        sci_images_list = list(wiki_page_sci.images)\n",
    "        for value in sci_images_list:\n",
    "            \n",
    "            if 'jpg' in value:\n",
    "                sci_images_return.append(value)\n",
    "            else:\n",
    "                continue\n",
    "\n",
    "    except:\n",
    "        sci_exflag = 1\n",
    "        print(sci_name+' '+'Created an sci_exception')\n",
    "\n",
    "\n",
    "    if sci_exflag==1 or len(sci_images_return)==0:\n",
    "        common_images_return = comm_split(comm_name)\n",
    "        return common_images_return\n",
    "    \n",
    "    if sci_exflag==0:\n",
    "        return sci_images_return\n",
    "    else:\n",
    "        return exception_list\n",
    "\n",
    "if __name__ == \"__main__\":\n",
    "    fname = input('Enter filename...')\n",
    "    data = pd.read_csv(fname)\n",
    "    data['images'] = data.apply(lambda x: get_images(x),axis=1)\n",
    "    data.to_csv('images_split_edit_animals.csv',index=False)\n",
    "    print('image search done!!=:)')\n",
    "    "
   ]
  },
  {
   "cell_type": "code",
   "execution_count": null,
   "metadata": {},
   "outputs": [],
   "source": []
  },
  {
   "cell_type": "markdown",
   "metadata": {},
   "source": [
    "####  check for similarities in the data:  "
   ]
  },
  {
   "cell_type": "code",
   "execution_count": 243,
   "metadata": {},
   "outputs": [],
   "source": [
    "dummy = pd.read_csv(\"endangered_animals.csv\")"
   ]
  },
  {
   "cell_type": "code",
   "execution_count": 337,
   "metadata": {},
   "outputs": [
    {
     "data": {
      "text/plain": [
       "Index(['sci_name', 'Common Name', 'Threatened status', 'Listed SPRAT TaxonID',\n",
       "       'Class', 'Profile', 'Family', 'states', 'habitat', 'feeding', 'threat',\n",
       "       'image', 'Description'],\n",
       "      dtype='object')"
      ]
     },
     "execution_count": 337,
     "metadata": {},
     "output_type": "execute_result"
    }
   ],
   "source": [
    "dummy.columns"
   ]
  },
  {
   "cell_type": "markdown",
   "metadata": {},
   "source": [
    "'Scientific Name', 'Common Name', 'Threatened status', 'SPART ID',\n",
    "       'Class', 'Family', 'Description', 'Habitat', 'Feeding', 'Threats','Regions'\n",
    "       'Image',  'Profile'"
   ]
  },
  {
   "cell_type": "code",
   "execution_count": 336,
   "metadata": {},
   "outputs": [],
   "source": [
    "del dummy['Kingdom']"
   ]
  },
  {
   "cell_type": "code",
   "execution_count": 360,
   "metadata": {},
   "outputs": [],
   "source": [
    "Animals = pd.DataFrame()"
   ]
  },
  {
   "cell_type": "code",
   "execution_count": 456,
   "metadata": {},
   "outputs": [],
   "source": [
    "Animals['Regions'] = dummy['states']"
   ]
  },
  {
   "cell_type": "code",
   "execution_count": 470,
   "metadata": {
    "scrolled": true
   },
   "outputs": [
    {
     "data": {
      "text/html": [
       "<div>\n",
       "<style scoped>\n",
       "    .dataframe tbody tr th:only-of-type {\n",
       "        vertical-align: middle;\n",
       "    }\n",
       "\n",
       "    .dataframe tbody tr th {\n",
       "        vertical-align: top;\n",
       "    }\n",
       "\n",
       "    .dataframe thead th {\n",
       "        text-align: right;\n",
       "    }\n",
       "</style>\n",
       "<table border=\"1\" class=\"dataframe\">\n",
       "  <thead>\n",
       "    <tr style=\"text-align: right;\">\n",
       "      <th></th>\n",
       "      <th>SPART_ID</th>\n",
       "      <th>Scientific_Name</th>\n",
       "      <th>Common_Name</th>\n",
       "      <th>Threatened_Status</th>\n",
       "      <th>Class</th>\n",
       "      <th>Family</th>\n",
       "      <th>Description</th>\n",
       "      <th>Habitat</th>\n",
       "      <th>Feeding</th>\n",
       "      <th>Threats</th>\n",
       "      <th>Regions</th>\n",
       "      <th>Image</th>\n",
       "      <th>Profile</th>\n",
       "      <th>Lat_Lon</th>\n",
       "    </tr>\n",
       "  </thead>\n",
       "  <tbody>\n",
       "    <tr>\n",
       "      <th>0</th>\n",
       "      <td>22</td>\n",
       "      <td>Neophoca cinerea</td>\n",
       "      <td>Australian Sea-lion, Australian Sea Lion</td>\n",
       "      <td>Vulnerable</td>\n",
       "      <td>Mammalia</td>\n",
       "      <td>Otariidae</td>\n",
       "      <td>The Australian Sea-lion has a blunt snout, wit...</td>\n",
       "      <td>Australian Sea-lions use a wide variety of hab...</td>\n",
       "      <td>Australian Sea-lions feed on a wide variety of...</td>\n",
       "      <td>Historic hunting and sealingHistorically, the ...</td>\n",
       "      <td>['SA', 'WA']</td>\n",
       "      <td>Google Images</td>\n",
       "      <td>http://www.environment.gov.au/cgi-bin/sprat/pu...</td>\n",
       "      <td>NA</td>\n",
       "    </tr>\n",
       "    <tr>\n",
       "      <th>1</th>\n",
       "      <td>26</td>\n",
       "      <td>Mirounga leonina</td>\n",
       "      <td>Southern Elephant Seal</td>\n",
       "      <td>Vulnerable</td>\n",
       "      <td>Mammalia</td>\n",
       "      <td>Phocidae</td>\n",
       "      <td>The Southern Elephant Seal is a large marine m...</td>\n",
       "      <td>To breed and moult the Southern Elephant Seal ...</td>\n",
       "      <td>Southern Elephant Seals feed mainly on cephalo...</td>\n",
       "      <td>Past threats to the Southern Elephant Seal inc...</td>\n",
       "      <td>['SA', 'TAS']</td>\n",
       "      <td>Google Images</td>\n",
       "      <td>http://www.environment.gov.au/cgi-bin/sprat/pu...</td>\n",
       "      <td>NA</td>\n",
       "    </tr>\n",
       "    <tr>\n",
       "      <th>2</th>\n",
       "      <td>34</td>\n",
       "      <td>Balaenoptera borealis</td>\n",
       "      <td>Sei Whale</td>\n",
       "      <td>Vulnerable</td>\n",
       "      <td>Mammalia</td>\n",
       "      <td>Balaenopteridae</td>\n",
       "      <td>Sei whales are dark grey or blue-grey on their...</td>\n",
       "      <td>The Australian Antarctic waters are important ...</td>\n",
       "      <td>Sei whales feed intensively between the Antarc...</td>\n",
       "      <td>The   Action Plan for Australian Mammals 2012 ...</td>\n",
       "      <td>['NSW', 'QLD', 'SA', 'TAS', 'VIC', 'WA']</td>\n",
       "      <td>Google Images http://e-info.org.tw/topic/whale...</td>\n",
       "      <td>http://www.environment.gov.au/cgi-bin/sprat/pu...</td>\n",
       "      <td>NA</td>\n",
       "    </tr>\n",
       "    <tr>\n",
       "      <th>3</th>\n",
       "      <td>36</td>\n",
       "      <td>Balaenoptera musculus</td>\n",
       "      <td>Blue Whale</td>\n",
       "      <td>Endangered</td>\n",
       "      <td>Mammalia</td>\n",
       "      <td>Balaenopteridae</td>\n",
       "      <td>Both the Antarctic blue whale and pygmy blue w...</td>\n",
       "      <td>Blue whale habitat is variable between the two...</td>\n",
       "      <td>In Antarctic waters, the blue whale feeds on k...</td>\n",
       "      <td>Several anthropogenic threats have been identi...</td>\n",
       "      <td>['NSW', 'NT', 'QLD', 'SA', 'TAS', 'VIC', 'WA']</td>\n",
       "      <td>Google Images http://www.yoto98.noaa.gov/books...</td>\n",
       "      <td>http://www.environment.gov.au/cgi-bin/sprat/pu...</td>\n",
       "      <td>NA</td>\n",
       "    </tr>\n",
       "    <tr>\n",
       "      <th>4</th>\n",
       "      <td>37</td>\n",
       "      <td>Balaenoptera physalus</td>\n",
       "      <td>Fin Whale</td>\n",
       "      <td>Vulnerable</td>\n",
       "      <td>Mammalia</td>\n",
       "      <td>Balaenopteridae</td>\n",
       "      <td>Fin whales are dark grey to brownish black dor...</td>\n",
       "      <td>The Australian Antarctic waters are important ...</td>\n",
       "      <td>Fin whales feed intensively in high latitudes ...</td>\n",
       "      <td>The   Action Plan for Australian Mammals 2012 ...</td>\n",
       "      <td>['NSW', 'QLD', 'SA', 'TAS', 'VIC', 'WA']</td>\n",
       "      <td>Google Images http://www.photolib.noaa.gov/ani...</td>\n",
       "      <td>http://www.environment.gov.au/cgi-bin/sprat/pu...</td>\n",
       "      <td>NA</td>\n",
       "    </tr>\n",
       "  </tbody>\n",
       "</table>\n",
       "</div>"
      ],
      "text/plain": [
       "   SPART_ID        Scientific_Name                               Common_Name  \\\n",
       "0        22       Neophoca cinerea  Australian Sea-lion, Australian Sea Lion   \n",
       "1        26       Mirounga leonina                    Southern Elephant Seal   \n",
       "2        34  Balaenoptera borealis                                 Sei Whale   \n",
       "3        36  Balaenoptera musculus                                Blue Whale   \n",
       "4        37  Balaenoptera physalus                                 Fin Whale   \n",
       "\n",
       "  Threatened_Status     Class           Family  \\\n",
       "0        Vulnerable  Mammalia        Otariidae   \n",
       "1        Vulnerable  Mammalia         Phocidae   \n",
       "2        Vulnerable  Mammalia  Balaenopteridae   \n",
       "3        Endangered  Mammalia  Balaenopteridae   \n",
       "4        Vulnerable  Mammalia  Balaenopteridae   \n",
       "\n",
       "                                         Description  \\\n",
       "0  The Australian Sea-lion has a blunt snout, wit...   \n",
       "1  The Southern Elephant Seal is a large marine m...   \n",
       "2  Sei whales are dark grey or blue-grey on their...   \n",
       "3  Both the Antarctic blue whale and pygmy blue w...   \n",
       "4  Fin whales are dark grey to brownish black dor...   \n",
       "\n",
       "                                             Habitat  \\\n",
       "0  Australian Sea-lions use a wide variety of hab...   \n",
       "1  To breed and moult the Southern Elephant Seal ...   \n",
       "2  The Australian Antarctic waters are important ...   \n",
       "3  Blue whale habitat is variable between the two...   \n",
       "4  The Australian Antarctic waters are important ...   \n",
       "\n",
       "                                             Feeding  \\\n",
       "0  Australian Sea-lions feed on a wide variety of...   \n",
       "1  Southern Elephant Seals feed mainly on cephalo...   \n",
       "2  Sei whales feed intensively between the Antarc...   \n",
       "3  In Antarctic waters, the blue whale feeds on k...   \n",
       "4  Fin whales feed intensively in high latitudes ...   \n",
       "\n",
       "                                             Threats  \\\n",
       "0  Historic hunting and sealingHistorically, the ...   \n",
       "1  Past threats to the Southern Elephant Seal inc...   \n",
       "2  The   Action Plan for Australian Mammals 2012 ...   \n",
       "3  Several anthropogenic threats have been identi...   \n",
       "4  The   Action Plan for Australian Mammals 2012 ...   \n",
       "\n",
       "                                          Regions  \\\n",
       "0                                    ['SA', 'WA']   \n",
       "1                                   ['SA', 'TAS']   \n",
       "2        ['NSW', 'QLD', 'SA', 'TAS', 'VIC', 'WA']   \n",
       "3  ['NSW', 'NT', 'QLD', 'SA', 'TAS', 'VIC', 'WA']   \n",
       "4        ['NSW', 'QLD', 'SA', 'TAS', 'VIC', 'WA']   \n",
       "\n",
       "                                               Image  \\\n",
       "0                                      Google Images   \n",
       "1                                      Google Images   \n",
       "2  Google Images http://e-info.org.tw/topic/whale...   \n",
       "3  Google Images http://www.yoto98.noaa.gov/books...   \n",
       "4  Google Images http://www.photolib.noaa.gov/ani...   \n",
       "\n",
       "                                             Profile Lat_Lon  \n",
       "0  http://www.environment.gov.au/cgi-bin/sprat/pu...      NA  \n",
       "1  http://www.environment.gov.au/cgi-bin/sprat/pu...      NA  \n",
       "2  http://www.environment.gov.au/cgi-bin/sprat/pu...      NA  \n",
       "3  http://www.environment.gov.au/cgi-bin/sprat/pu...      NA  \n",
       "4  http://www.environment.gov.au/cgi-bin/sprat/pu...      NA  "
      ]
     },
     "execution_count": 470,
     "metadata": {},
     "output_type": "execute_result"
    }
   ],
   "source": [
    "Animals.head()"
   ]
  },
  {
   "cell_type": "code",
   "execution_count": null,
   "metadata": {},
   "outputs": [],
   "source": []
  },
  {
   "cell_type": "code",
   "execution_count": null,
   "metadata": {},
   "outputs": [],
   "source": []
  },
  {
   "cell_type": "code",
   "execution_count": 346,
   "metadata": {},
   "outputs": [],
   "source": [
    "dummy1 = pd.read_csv(\"species_file.csv\")"
   ]
  },
  {
   "cell_type": "code",
   "execution_count": 412,
   "metadata": {},
   "outputs": [
    {
     "data": {
      "text/plain": [
       "Index(['SPART_ID', 'Scientific_Name', 'Common_Name', 'Threatened_Status',\n",
       "       'Class', 'Family', 'Description', 'Habitat', 'Feeding', 'Threats',\n",
       "       'Regions', 'Image', 'Profile'],\n",
       "      dtype='object')"
      ]
     },
     "execution_count": 412,
     "metadata": {},
     "output_type": "execute_result"
    }
   ],
   "source": [
    "Animals.columns"
   ]
  },
  {
   "cell_type": "code",
   "execution_count": 413,
   "metadata": {},
   "outputs": [
    {
     "data": {
      "text/plain": [
       "Index(['listed_id', 'sci_name', 'comm_name', 'threatened', 'migratory',\n",
       "       'tax_family', 'tax_class', 'regions', 'sprat_prof', 'geometry',\n",
       "       'habitat', 'feeding', 'threat', 'image', 'Description'],\n",
       "      dtype='object')"
      ]
     },
     "execution_count": 413,
     "metadata": {},
     "output_type": "execute_result"
    }
   ],
   "source": [
    "dummy1.columns"
   ]
  },
  {
   "cell_type": "code",
   "execution_count": 410,
   "metadata": {},
   "outputs": [],
   "source": [
    "animal = pd.DataFrame()"
   ]
  },
  {
   "cell_type": "code",
   "execution_count": 469,
   "metadata": {},
   "outputs": [],
   "source": [
    "Animals['Lat_Lon'] = \"NA\""
   ]
  },
  {
   "cell_type": "code",
   "execution_count": 467,
   "metadata": {
    "scrolled": true
   },
   "outputs": [
    {
     "data": {
      "text/html": [
       "<div>\n",
       "<style scoped>\n",
       "    .dataframe tbody tr th:only-of-type {\n",
       "        vertical-align: middle;\n",
       "    }\n",
       "\n",
       "    .dataframe tbody tr th {\n",
       "        vertical-align: top;\n",
       "    }\n",
       "\n",
       "    .dataframe thead th {\n",
       "        text-align: right;\n",
       "    }\n",
       "</style>\n",
       "<table border=\"1\" class=\"dataframe\">\n",
       "  <thead>\n",
       "    <tr style=\"text-align: right;\">\n",
       "      <th></th>\n",
       "      <th>SPART_ID</th>\n",
       "      <th>Scientific_Name</th>\n",
       "      <th>Common_Name</th>\n",
       "      <th>Threatened_Status</th>\n",
       "      <th>Class</th>\n",
       "      <th>Family</th>\n",
       "      <th>Description</th>\n",
       "      <th>Habitat</th>\n",
       "      <th>Feeding</th>\n",
       "      <th>Threats</th>\n",
       "      <th>Regions</th>\n",
       "      <th>Image</th>\n",
       "      <th>Profile</th>\n",
       "      <th>Lat_Lon</th>\n",
       "    </tr>\n",
       "  </thead>\n",
       "  <tbody>\n",
       "    <tr>\n",
       "      <th>0</th>\n",
       "      <td>36</td>\n",
       "      <td>Balaenoptera musculus</td>\n",
       "      <td>Blue Whale</td>\n",
       "      <td>Endangered</td>\n",
       "      <td>Mammalia</td>\n",
       "      <td>Balaenopteridae</td>\n",
       "      <td>Both the Antarctic blue whale and pygmy blue w...</td>\n",
       "      <td>Blue whale habitat is variable between the two...</td>\n",
       "      <td>In Antarctic waters, the blue whale feeds on k...</td>\n",
       "      <td>Several anthropogenic threats have been identi...</td>\n",
       "      <td>NT; CI; QLD; NSW; TAS; VIC; WA; ACI; CSI; SA; ...</td>\n",
       "      <td>Google Images http://www.yoto98.noaa.gov/books...</td>\n",
       "      <td>http://www.environment.gov.au/cgi-bin/sprat/pu...</td>\n",
       "      <td>MULTIPOLYGON (((153.22 -68.34999999999997, 153...</td>\n",
       "    </tr>\n",
       "    <tr>\n",
       "      <th>1</th>\n",
       "      <td>40</td>\n",
       "      <td>Eubalaena australis</td>\n",
       "      <td>Southern Right Whale</td>\n",
       "      <td>Endangered</td>\n",
       "      <td>Mammalia</td>\n",
       "      <td>Balaenidae</td>\n",
       "      <td>The southern right whale is a large baleen wha...</td>\n",
       "      <td>Feeding HabitatThe feeding habitat of the sout...</td>\n",
       "      <td>Knowledge of southern right whale prey items h...</td>\n",
       "      <td>The  Conservation Management Plan for the Sout...</td>\n",
       "      <td>QLD; NSW; TAS; VIC; WA; CSI; SA; HMI; AAT; JBT...</td>\n",
       "      <td>Google Images http://www.abc.net.au/storm/expo...</td>\n",
       "      <td>http://www.environment.gov.au/cgi-bin/sprat/pu...</td>\n",
       "      <td>MULTIPOLYGON (((159.0400000000001 -50.99999999...</td>\n",
       "    </tr>\n",
       "    <tr>\n",
       "      <th>2</th>\n",
       "      <td>77</td>\n",
       "      <td>Pseudomys shortridgei</td>\n",
       "      <td>Heath Mouse, Dayang, Heath Rat</td>\n",
       "      <td>Endangered</td>\n",
       "      <td>Mammalia</td>\n",
       "      <td>Muridae</td>\n",
       "      <td>[]</td>\n",
       "      <td></td>\n",
       "      <td></td>\n",
       "      <td></td>\n",
       "      <td>VIC; WA; SA</td>\n",
       "      <td>Google Images</td>\n",
       "      <td>http://www.environment.gov.au/cgi-bin/sprat/pu...</td>\n",
       "      <td>MULTIPOLYGON (((141.1599999990001 -37.38999999...</td>\n",
       "    </tr>\n",
       "    <tr>\n",
       "      <th>3</th>\n",
       "      <td>88</td>\n",
       "      <td>Pseudomys fumeus</td>\n",
       "      <td>Smoky Mouse, Konoom</td>\n",
       "      <td>Endangered</td>\n",
       "      <td>Mammalia</td>\n",
       "      <td>Muridae</td>\n",
       "      <td>The Konoom is an Australian native rodent with...</td>\n",
       "      <td>The Konoom occurs in a wide variety of habitat...</td>\n",
       "      <td>The Konoom has a seasonal diet that is based o...</td>\n",
       "      <td>Predation by introduced speciesThe relatively ...</td>\n",
       "      <td>ACT; NSW; VIC; SA</td>\n",
       "      <td>Google Images http://www.npws.nsw.gov.au/wildl...</td>\n",
       "      <td>http://www.environment.gov.au/cgi-bin/sprat/pu...</td>\n",
       "      <td>MULTIPOLYGON (((143.58 -38.83999999999997, 143...</td>\n",
       "    </tr>\n",
       "    <tr>\n",
       "      <th>4</th>\n",
       "      <td>98</td>\n",
       "      <td>Pseudomys oralis</td>\n",
       "      <td>Hastings River Mouse, Koontoo</td>\n",
       "      <td>Endangered</td>\n",
       "      <td>Mammalia</td>\n",
       "      <td>Muridae</td>\n",
       "      <td>The Hastings River Mouse is a brownish-grey ro...</td>\n",
       "      <td>The main factors determining the species' pres...</td>\n",
       "      <td>The diet of the Hastings River Mouse has been ...</td>\n",
       "      <td></td>\n",
       "      <td>QLD; NSW</td>\n",
       "      <td>Google Images http://www.npws.nsw.gov.au/wildl...</td>\n",
       "      <td>http://www.environment.gov.au/cgi-bin/sprat/pu...</td>\n",
       "      <td>MULTIPOLYGON (((151.3000000000001 -32.12999999...</td>\n",
       "    </tr>\n",
       "  </tbody>\n",
       "</table>\n",
       "</div>"
      ],
      "text/plain": [
       "   SPART_ID        Scientific_Name                     Common_Name  \\\n",
       "0        36  Balaenoptera musculus                      Blue Whale   \n",
       "1        40    Eubalaena australis            Southern Right Whale   \n",
       "2        77  Pseudomys shortridgei  Heath Mouse, Dayang, Heath Rat   \n",
       "3        88       Pseudomys fumeus             Smoky Mouse, Konoom   \n",
       "4        98       Pseudomys oralis   Hastings River Mouse, Koontoo   \n",
       "\n",
       "  Threatened_Status     Class           Family  \\\n",
       "0        Endangered  Mammalia  Balaenopteridae   \n",
       "1        Endangered  Mammalia       Balaenidae   \n",
       "2        Endangered  Mammalia          Muridae   \n",
       "3        Endangered  Mammalia          Muridae   \n",
       "4        Endangered  Mammalia          Muridae   \n",
       "\n",
       "                                         Description  \\\n",
       "0  Both the Antarctic blue whale and pygmy blue w...   \n",
       "1  The southern right whale is a large baleen wha...   \n",
       "2                                                 []   \n",
       "3  The Konoom is an Australian native rodent with...   \n",
       "4  The Hastings River Mouse is a brownish-grey ro...   \n",
       "\n",
       "                                             Habitat  \\\n",
       "0  Blue whale habitat is variable between the two...   \n",
       "1  Feeding HabitatThe feeding habitat of the sout...   \n",
       "2                                                      \n",
       "3  The Konoom occurs in a wide variety of habitat...   \n",
       "4  The main factors determining the species' pres...   \n",
       "\n",
       "                                             Feeding  \\\n",
       "0  In Antarctic waters, the blue whale feeds on k...   \n",
       "1  Knowledge of southern right whale prey items h...   \n",
       "2                                                      \n",
       "3  The Konoom has a seasonal diet that is based o...   \n",
       "4  The diet of the Hastings River Mouse has been ...   \n",
       "\n",
       "                                             Threats  \\\n",
       "0  Several anthropogenic threats have been identi...   \n",
       "1  The  Conservation Management Plan for the Sout...   \n",
       "2                                                      \n",
       "3  Predation by introduced speciesThe relatively ...   \n",
       "4                                                      \n",
       "\n",
       "                                             Regions  \\\n",
       "0  NT; CI; QLD; NSW; TAS; VIC; WA; ACI; CSI; SA; ...   \n",
       "1  QLD; NSW; TAS; VIC; WA; CSI; SA; HMI; AAT; JBT...   \n",
       "2                                        VIC; WA; SA   \n",
       "3                                  ACT; NSW; VIC; SA   \n",
       "4                                           QLD; NSW   \n",
       "\n",
       "                                               Image  \\\n",
       "0  Google Images http://www.yoto98.noaa.gov/books...   \n",
       "1  Google Images http://www.abc.net.au/storm/expo...   \n",
       "2                                      Google Images   \n",
       "3  Google Images http://www.npws.nsw.gov.au/wildl...   \n",
       "4  Google Images http://www.npws.nsw.gov.au/wildl...   \n",
       "\n",
       "                                             Profile  \\\n",
       "0  http://www.environment.gov.au/cgi-bin/sprat/pu...   \n",
       "1  http://www.environment.gov.au/cgi-bin/sprat/pu...   \n",
       "2  http://www.environment.gov.au/cgi-bin/sprat/pu...   \n",
       "3  http://www.environment.gov.au/cgi-bin/sprat/pu...   \n",
       "4  http://www.environment.gov.au/cgi-bin/sprat/pu...   \n",
       "\n",
       "                                             Lat_Lon  \n",
       "0  MULTIPOLYGON (((153.22 -68.34999999999997, 153...  \n",
       "1  MULTIPOLYGON (((159.0400000000001 -50.99999999...  \n",
       "2  MULTIPOLYGON (((141.1599999990001 -37.38999999...  \n",
       "3  MULTIPOLYGON (((143.58 -38.83999999999997, 143...  \n",
       "4  MULTIPOLYGON (((151.3000000000001 -32.12999999...  "
      ]
     },
     "execution_count": 467,
     "metadata": {},
     "output_type": "execute_result"
    }
   ],
   "source": [
    "animal.head()"
   ]
  },
  {
   "cell_type": "code",
   "execution_count": 451,
   "metadata": {},
   "outputs": [
    {
     "name": "stderr",
     "output_type": "stream",
     "text": [
      "C:\\Users\\V.PAVAN\\Anaconda3\\envs\\rstudio\\lib\\site-packages\\ipykernel_launcher.py:3: SettingWithCopyWarning: \n",
      "A value is trying to be set on a copy of a slice from a DataFrame\n",
      "\n",
      "See the caveats in the documentation: https://pandas.pydata.org/pandas-docs/stable/user_guide/indexing.html#returning-a-view-versus-a-copy\n",
      "  This is separate from the ipykernel package so we can avoid doing imports until\n"
     ]
    }
   ],
   "source": [
    "for i in range(len(Animals)):\n",
    "    st = Animals['Regions'][i]\n",
    "    Animals['Regions'][i] = pd.eval(st)"
   ]
  },
  {
   "cell_type": "code",
   "execution_count": 454,
   "metadata": {},
   "outputs": [
    {
     "name": "stderr",
     "output_type": "stream",
     "text": [
      "C:\\Users\\V.PAVAN\\Anaconda3\\envs\\rstudio\\lib\\site-packages\\ipykernel_launcher.py:3: SettingWithCopyWarning: \n",
      "A value is trying to be set on a copy of a slice from a DataFrame\n",
      "\n",
      "See the caveats in the documentation: https://pandas.pydata.org/pandas-docs/stable/user_guide/indexing.html#returning-a-view-versus-a-copy\n",
      "  This is separate from the ipykernel package so we can avoid doing imports until\n"
     ]
    }
   ],
   "source": [
    "for i in range(len(Animals)):\n",
    "    st = Animals['Regions'][i]\n",
    "    Animals['Regions'][i] = '; '.join(map(str, st))"
   ]
  },
  {
   "cell_type": "code",
   "execution_count": null,
   "metadata": {},
   "outputs": [],
   "source": []
  },
  {
   "cell_type": "code",
   "execution_count": 465,
   "metadata": {
    "scrolled": true
   },
   "outputs": [
    {
     "data": {
      "text/html": [
       "<div>\n",
       "<style scoped>\n",
       "    .dataframe tbody tr th:only-of-type {\n",
       "        vertical-align: middle;\n",
       "    }\n",
       "\n",
       "    .dataframe tbody tr th {\n",
       "        vertical-align: top;\n",
       "    }\n",
       "\n",
       "    .dataframe thead th {\n",
       "        text-align: right;\n",
       "    }\n",
       "</style>\n",
       "<table border=\"1\" class=\"dataframe\">\n",
       "  <thead>\n",
       "    <tr style=\"text-align: right;\">\n",
       "      <th></th>\n",
       "      <th>SPART_ID</th>\n",
       "      <th>Scientific_Name</th>\n",
       "      <th>Common_Name</th>\n",
       "      <th>Threatened_Status</th>\n",
       "      <th>Class</th>\n",
       "      <th>Family</th>\n",
       "      <th>Description</th>\n",
       "      <th>Habitat</th>\n",
       "      <th>Feeding</th>\n",
       "      <th>Threats</th>\n",
       "      <th>Regions</th>\n",
       "      <th>Image</th>\n",
       "      <th>Profile</th>\n",
       "      <th>_merge</th>\n",
       "    </tr>\n",
       "  </thead>\n",
       "  <tbody>\n",
       "    <tr>\n",
       "      <th>0</th>\n",
       "      <td>36</td>\n",
       "      <td>Balaenoptera musculus</td>\n",
       "      <td>Blue Whale</td>\n",
       "      <td>Endangered</td>\n",
       "      <td>Mammalia</td>\n",
       "      <td>Balaenopteridae</td>\n",
       "      <td>Both the Antarctic blue whale and pygmy blue w...</td>\n",
       "      <td>Blue whale habitat is variable between the two...</td>\n",
       "      <td>In Antarctic waters, the blue whale feeds on k...</td>\n",
       "      <td>Several anthropogenic threats have been identi...</td>\n",
       "      <td>NT; CI; QLD; NSW; TAS; VIC; WA; ACI; CSI; SA; ...</td>\n",
       "      <td>Google Images http://www.yoto98.noaa.gov/books...</td>\n",
       "      <td>http://www.environment.gov.au/cgi-bin/sprat/pu...</td>\n",
       "      <td>right_only</td>\n",
       "    </tr>\n",
       "    <tr>\n",
       "      <th>1</th>\n",
       "      <td>40</td>\n",
       "      <td>Eubalaena australis</td>\n",
       "      <td>Southern Right Whale</td>\n",
       "      <td>Endangered</td>\n",
       "      <td>Mammalia</td>\n",
       "      <td>Balaenidae</td>\n",
       "      <td>The southern right whale is a large baleen wha...</td>\n",
       "      <td>Feeding HabitatThe feeding habitat of the sout...</td>\n",
       "      <td>Knowledge of southern right whale prey items h...</td>\n",
       "      <td>The  Conservation Management Plan for the Sout...</td>\n",
       "      <td>QLD; NSW; TAS; VIC; WA; CSI; SA; HMI; AAT; JBT...</td>\n",
       "      <td>Google Images http://www.abc.net.au/storm/expo...</td>\n",
       "      <td>http://www.environment.gov.au/cgi-bin/sprat/pu...</td>\n",
       "      <td>right_only</td>\n",
       "    </tr>\n",
       "    <tr>\n",
       "      <th>2</th>\n",
       "      <td>77</td>\n",
       "      <td>Pseudomys shortridgei</td>\n",
       "      <td>Heath Mouse, Dayang, Heath Rat</td>\n",
       "      <td>Endangered</td>\n",
       "      <td>Mammalia</td>\n",
       "      <td>Muridae</td>\n",
       "      <td>[]</td>\n",
       "      <td></td>\n",
       "      <td></td>\n",
       "      <td></td>\n",
       "      <td>VIC; WA; SA</td>\n",
       "      <td>Google Images</td>\n",
       "      <td>http://www.environment.gov.au/cgi-bin/sprat/pu...</td>\n",
       "      <td>right_only</td>\n",
       "    </tr>\n",
       "    <tr>\n",
       "      <th>3</th>\n",
       "      <td>88</td>\n",
       "      <td>Pseudomys fumeus</td>\n",
       "      <td>Smoky Mouse, Konoom</td>\n",
       "      <td>Endangered</td>\n",
       "      <td>Mammalia</td>\n",
       "      <td>Muridae</td>\n",
       "      <td>The Konoom is an Australian native rodent with...</td>\n",
       "      <td>The Konoom occurs in a wide variety of habitat...</td>\n",
       "      <td>The Konoom has a seasonal diet that is based o...</td>\n",
       "      <td>Predation by introduced speciesThe relatively ...</td>\n",
       "      <td>ACT; NSW; VIC; SA</td>\n",
       "      <td>Google Images http://www.npws.nsw.gov.au/wildl...</td>\n",
       "      <td>http://www.environment.gov.au/cgi-bin/sprat/pu...</td>\n",
       "      <td>right_only</td>\n",
       "    </tr>\n",
       "    <tr>\n",
       "      <th>4</th>\n",
       "      <td>98</td>\n",
       "      <td>Pseudomys oralis</td>\n",
       "      <td>Hastings River Mouse, Koontoo</td>\n",
       "      <td>Endangered</td>\n",
       "      <td>Mammalia</td>\n",
       "      <td>Muridae</td>\n",
       "      <td>The Hastings River Mouse is a brownish-grey ro...</td>\n",
       "      <td>The main factors determining the species' pres...</td>\n",
       "      <td>The diet of the Hastings River Mouse has been ...</td>\n",
       "      <td></td>\n",
       "      <td>QLD; NSW</td>\n",
       "      <td>Google Images http://www.npws.nsw.gov.au/wildl...</td>\n",
       "      <td>http://www.environment.gov.au/cgi-bin/sprat/pu...</td>\n",
       "      <td>right_only</td>\n",
       "    </tr>\n",
       "    <tr>\n",
       "      <th>...</th>\n",
       "      <td>...</td>\n",
       "      <td>...</td>\n",
       "      <td>...</td>\n",
       "      <td>...</td>\n",
       "      <td>...</td>\n",
       "      <td>...</td>\n",
       "      <td>...</td>\n",
       "      <td>...</td>\n",
       "      <td>...</td>\n",
       "      <td>...</td>\n",
       "      <td>...</td>\n",
       "      <td>...</td>\n",
       "      <td>...</td>\n",
       "      <td>...</td>\n",
       "    </tr>\n",
       "    <tr>\n",
       "      <th>545</th>\n",
       "      <td>1047</td>\n",
       "      <td>Procellaria cinerea</td>\n",
       "      <td>Grey Petrel</td>\n",
       "      <td>NaN</td>\n",
       "      <td>Aves</td>\n",
       "      <td>Procellariidae</td>\n",
       "      <td>[]</td>\n",
       "      <td></td>\n",
       "      <td></td>\n",
       "      <td></td>\n",
       "      <td>TAS; CMA</td>\n",
       "      <td>Google Images</td>\n",
       "      <td>http://www.environment.gov.au/cgi-bin/sprat/pu...</td>\n",
       "      <td>right_only</td>\n",
       "    </tr>\n",
       "    <tr>\n",
       "      <th>546</th>\n",
       "      <td>78900</td>\n",
       "      <td>Tursiops aduncus (Arafura/Timor Sea populations)</td>\n",
       "      <td>Spotted Bottlenose Dolphin (Arafura/Timor Sea ...</td>\n",
       "      <td>NaN</td>\n",
       "      <td>Mammalia</td>\n",
       "      <td>Delphinidae</td>\n",
       "      <td>[]</td>\n",
       "      <td></td>\n",
       "      <td></td>\n",
       "      <td></td>\n",
       "      <td>NT; WA; ACI; CMA</td>\n",
       "      <td>Google Images</td>\n",
       "      <td>http://www.environment.gov.au/cgi-bin/sprat/pu...</td>\n",
       "      <td>right_only</td>\n",
       "    </tr>\n",
       "    <tr>\n",
       "      <th>547</th>\n",
       "      <td>83000</td>\n",
       "      <td>Thalasseus bergii</td>\n",
       "      <td>Crested Tern</td>\n",
       "      <td>NaN</td>\n",
       "      <td>Aves</td>\n",
       "      <td>Laridae</td>\n",
       "      <td>[]</td>\n",
       "      <td></td>\n",
       "      <td></td>\n",
       "      <td></td>\n",
       "      <td>NaN</td>\n",
       "      <td>Google Images</td>\n",
       "      <td>http://www.environment.gov.au/cgi-bin/sprat/pu...</td>\n",
       "      <td>right_only</td>\n",
       "    </tr>\n",
       "    <tr>\n",
       "      <th>548</th>\n",
       "      <td>80610</td>\n",
       "      <td>Cecropis daurica</td>\n",
       "      <td>Red-rumped Swallow</td>\n",
       "      <td>NaN</td>\n",
       "      <td>Aves</td>\n",
       "      <td>Hirundinidae</td>\n",
       "      <td>[]</td>\n",
       "      <td></td>\n",
       "      <td></td>\n",
       "      <td></td>\n",
       "      <td>NaN</td>\n",
       "      <td>Google Images</td>\n",
       "      <td>http://www.environment.gov.au/cgi-bin/sprat/pu...</td>\n",
       "      <td>right_only</td>\n",
       "    </tr>\n",
       "    <tr>\n",
       "      <th>549</th>\n",
       "      <td>64462</td>\n",
       "      <td>Thalassarche steadi</td>\n",
       "      <td>White-capped Albatross</td>\n",
       "      <td>NaN</td>\n",
       "      <td>Aves</td>\n",
       "      <td>Diomedeidae</td>\n",
       "      <td>The White-capped Albatross has a grey back and...</td>\n",
       "      <td>The White-capped Albatross is a marine species...</td>\n",
       "      <td>The White-capped Albatross probably has a diet...</td>\n",
       "      <td>The White-capped Albatross is threatened on Au...</td>\n",
       "      <td>QLD; NSW; TAS; VIC; WA; CSI; SA; HMI; AAT; JBT...</td>\n",
       "      <td>Google Images</td>\n",
       "      <td>http://www.environment.gov.au/cgi-bin/sprat/pu...</td>\n",
       "      <td>right_only</td>\n",
       "    </tr>\n",
       "  </tbody>\n",
       "</table>\n",
       "<p>550 rows × 14 columns</p>\n",
       "</div>"
      ],
      "text/plain": [
       "     SPART_ID                                   Scientific_Name  \\\n",
       "0          36                             Balaenoptera musculus   \n",
       "1          40                               Eubalaena australis   \n",
       "2          77                             Pseudomys shortridgei   \n",
       "3          88                                  Pseudomys fumeus   \n",
       "4          98                                  Pseudomys oralis   \n",
       "..        ...                                               ...   \n",
       "545      1047                               Procellaria cinerea   \n",
       "546     78900  Tursiops aduncus (Arafura/Timor Sea populations)   \n",
       "547     83000                                 Thalasseus bergii   \n",
       "548     80610                                  Cecropis daurica   \n",
       "549     64462                               Thalassarche steadi   \n",
       "\n",
       "                                           Common_Name Threatened_Status  \\\n",
       "0                                           Blue Whale        Endangered   \n",
       "1                                 Southern Right Whale        Endangered   \n",
       "2                       Heath Mouse, Dayang, Heath Rat        Endangered   \n",
       "3                                  Smoky Mouse, Konoom        Endangered   \n",
       "4                        Hastings River Mouse, Koontoo        Endangered   \n",
       "..                                                 ...               ...   \n",
       "545                                        Grey Petrel               NaN   \n",
       "546  Spotted Bottlenose Dolphin (Arafura/Timor Sea ...               NaN   \n",
       "547                                       Crested Tern               NaN   \n",
       "548                                 Red-rumped Swallow               NaN   \n",
       "549                             White-capped Albatross               NaN   \n",
       "\n",
       "        Class           Family  \\\n",
       "0    Mammalia  Balaenopteridae   \n",
       "1    Mammalia       Balaenidae   \n",
       "2    Mammalia          Muridae   \n",
       "3    Mammalia          Muridae   \n",
       "4    Mammalia          Muridae   \n",
       "..        ...              ...   \n",
       "545      Aves   Procellariidae   \n",
       "546  Mammalia      Delphinidae   \n",
       "547      Aves          Laridae   \n",
       "548      Aves     Hirundinidae   \n",
       "549      Aves      Diomedeidae   \n",
       "\n",
       "                                           Description  \\\n",
       "0    Both the Antarctic blue whale and pygmy blue w...   \n",
       "1    The southern right whale is a large baleen wha...   \n",
       "2                                                   []   \n",
       "3    The Konoom is an Australian native rodent with...   \n",
       "4    The Hastings River Mouse is a brownish-grey ro...   \n",
       "..                                                 ...   \n",
       "545                                                 []   \n",
       "546                                                 []   \n",
       "547                                                 []   \n",
       "548                                                 []   \n",
       "549  The White-capped Albatross has a grey back and...   \n",
       "\n",
       "                                               Habitat  \\\n",
       "0    Blue whale habitat is variable between the two...   \n",
       "1    Feeding HabitatThe feeding habitat of the sout...   \n",
       "2                                                        \n",
       "3    The Konoom occurs in a wide variety of habitat...   \n",
       "4    The main factors determining the species' pres...   \n",
       "..                                                 ...   \n",
       "545                                                      \n",
       "546                                                      \n",
       "547                                                      \n",
       "548                                                      \n",
       "549  The White-capped Albatross is a marine species...   \n",
       "\n",
       "                                               Feeding  \\\n",
       "0    In Antarctic waters, the blue whale feeds on k...   \n",
       "1    Knowledge of southern right whale prey items h...   \n",
       "2                                                        \n",
       "3    The Konoom has a seasonal diet that is based o...   \n",
       "4    The diet of the Hastings River Mouse has been ...   \n",
       "..                                                 ...   \n",
       "545                                                      \n",
       "546                                                      \n",
       "547                                                      \n",
       "548                                                      \n",
       "549  The White-capped Albatross probably has a diet...   \n",
       "\n",
       "                                               Threats  \\\n",
       "0    Several anthropogenic threats have been identi...   \n",
       "1    The  Conservation Management Plan for the Sout...   \n",
       "2                                                        \n",
       "3    Predation by introduced speciesThe relatively ...   \n",
       "4                                                        \n",
       "..                                                 ...   \n",
       "545                                                      \n",
       "546                                                      \n",
       "547                                                      \n",
       "548                                                      \n",
       "549  The White-capped Albatross is threatened on Au...   \n",
       "\n",
       "                                               Regions  \\\n",
       "0    NT; CI; QLD; NSW; TAS; VIC; WA; ACI; CSI; SA; ...   \n",
       "1    QLD; NSW; TAS; VIC; WA; CSI; SA; HMI; AAT; JBT...   \n",
       "2                                          VIC; WA; SA   \n",
       "3                                    ACT; NSW; VIC; SA   \n",
       "4                                             QLD; NSW   \n",
       "..                                                 ...   \n",
       "545                                           TAS; CMA   \n",
       "546                                   NT; WA; ACI; CMA   \n",
       "547                                                NaN   \n",
       "548                                                NaN   \n",
       "549  QLD; NSW; TAS; VIC; WA; CSI; SA; HMI; AAT; JBT...   \n",
       "\n",
       "                                                 Image  \\\n",
       "0    Google Images http://www.yoto98.noaa.gov/books...   \n",
       "1    Google Images http://www.abc.net.au/storm/expo...   \n",
       "2                                        Google Images   \n",
       "3    Google Images http://www.npws.nsw.gov.au/wildl...   \n",
       "4    Google Images http://www.npws.nsw.gov.au/wildl...   \n",
       "..                                                 ...   \n",
       "545                                      Google Images   \n",
       "546                                      Google Images   \n",
       "547                                      Google Images   \n",
       "548                                      Google Images   \n",
       "549                                      Google Images   \n",
       "\n",
       "                                               Profile      _merge  \n",
       "0    http://www.environment.gov.au/cgi-bin/sprat/pu...  right_only  \n",
       "1    http://www.environment.gov.au/cgi-bin/sprat/pu...  right_only  \n",
       "2    http://www.environment.gov.au/cgi-bin/sprat/pu...  right_only  \n",
       "3    http://www.environment.gov.au/cgi-bin/sprat/pu...  right_only  \n",
       "4    http://www.environment.gov.au/cgi-bin/sprat/pu...  right_only  \n",
       "..                                                 ...         ...  \n",
       "545  http://www.environment.gov.au/cgi-bin/sprat/pu...  right_only  \n",
       "546  http://www.environment.gov.au/cgi-bin/sprat/pu...  right_only  \n",
       "547  http://www.environment.gov.au/cgi-bin/sprat/pu...  right_only  \n",
       "548  http://www.environment.gov.au/cgi-bin/sprat/pu...  right_only  \n",
       "549  http://www.environment.gov.au/cgi-bin/sprat/pu...  right_only  \n",
       "\n",
       "[550 rows x 14 columns]"
      ]
     },
     "execution_count": 465,
     "metadata": {},
     "output_type": "execute_result"
    }
   ],
   "source": [
    "Animals.merge(animal, how='right', indicator=True)"
   ]
  },
  {
   "cell_type": "code",
   "execution_count": 461,
   "metadata": {},
   "outputs": [],
   "source": [
    "s1 = pd.merge(Animals, animal, how='inner', on=['Scientific_Name'])"
   ]
  },
  {
   "cell_type": "code",
   "execution_count": 462,
   "metadata": {},
   "outputs": [
    {
     "data": {
      "text/plain": [
       "Index(['SPART_ID_x', 'Scientific_Name', 'Common_Name_x', 'Threatened_Status_x',\n",
       "       'Class_x', 'Family_x', 'Description_x', 'Habitat_x', 'Feeding_x',\n",
       "       'Threats_x', 'Regions_x', 'Image_x', 'Profile_x', 'SPART_ID_y',\n",
       "       'Common_Name_y', 'Threatened_Status_y', 'Class_y', 'Family_y',\n",
       "       'Description_y', 'Habitat_y', 'Feeding_y', 'Threats_y', 'Regions_y',\n",
       "       'Image_y', 'Profile_y'],\n",
       "      dtype='object')"
      ]
     },
     "execution_count": 462,
     "metadata": {},
     "output_type": "execute_result"
    }
   ],
   "source": [
    "s1.columns"
   ]
  },
  {
   "cell_type": "code",
   "execution_count": 259,
   "metadata": {},
   "outputs": [],
   "source": [
    "dummy2 = pd.read_csv(\"ACT_animals.csv\")"
   ]
  },
  {
   "cell_type": "code",
   "execution_count": 473,
   "metadata": {},
   "outputs": [],
   "source": [
    "Animals.to_csv(\"ENDANGERED_AUSTRALIAN_ANIMALS.csv\")"
   ]
  },
  {
   "cell_type": "code",
   "execution_count": 472,
   "metadata": {},
   "outputs": [],
   "source": [
    "animal.to_csv(\"AUSTRALIA_ANIMALS.csv\")"
   ]
  },
  {
   "cell_type": "code",
   "execution_count": 9,
   "metadata": {},
   "outputs": [],
   "source": [
    "animals = pd.read_csv(\"AUSTRALIA_ANIMALS.csv\")"
   ]
  },
  {
   "cell_type": "code",
   "execution_count": null,
   "metadata": {},
   "outputs": [],
   "source": []
  },
  {
   "cell_type": "code",
   "execution_count": 112,
   "metadata": {},
   "outputs": [],
   "source": [
    "maps = animals[['SPART_ID','Scientific_Name','geometry']]"
   ]
  },
  {
   "cell_type": "code",
   "execution_count": 10,
   "metadata": {},
   "outputs": [],
   "source": [
    "animals = animals[['SPART_ID','Lat_Lon']]"
   ]
  },
  {
   "cell_type": "code",
   "execution_count": 137,
   "metadata": {},
   "outputs": [],
   "source": [
    "animals.to_csv(\"final_maps_animals.csv\",index=False)"
   ]
  },
  {
   "cell_type": "code",
   "execution_count": 132,
   "metadata": {},
   "outputs": [],
   "source": [
    "animals = animals[['SPART_ID','Lat_Lon']]"
   ]
  },
  {
   "cell_type": "code",
   "execution_count": null,
   "metadata": {},
   "outputs": [],
   "source": []
  },
  {
   "cell_type": "code",
   "execution_count": 92,
   "metadata": {},
   "outputs": [],
   "source": [
    "import numpy as np\n",
    "#animals = animals.replace(r'\\[\\]', \"NA\", regex=True)\n",
    "animals['Threats'] = animals['Threats'].fillna('NA') "
   ]
  },
  {
   "cell_type": "code",
   "execution_count": 134,
   "metadata": {},
   "outputs": [],
   "source": [
    "animals.to_csv(\"final_maps_animals.csv\")"
   ]
  },
  {
   "cell_type": "code",
   "execution_count": 81,
   "metadata": {},
   "outputs": [
    {
     "data": {
      "text/plain": [
       "Index(['SPART_ID', 'Scientific_Name', 'Threatened_Status', 'Class', 'Family',\n",
       "       'Description', 'Habitat', 'Feeding', 'Threats', 'Profile'],\n",
       "      dtype='object')"
      ]
     },
     "execution_count": 81,
     "metadata": {},
     "output_type": "execute_result"
    }
   ],
   "source": [
    "animals.columns"
   ]
  },
  {
   "cell_type": "code",
   "execution_count": 93,
   "metadata": {},
   "outputs": [
    {
     "data": {
      "text/html": [
       "<div>\n",
       "<style scoped>\n",
       "    .dataframe tbody tr th:only-of-type {\n",
       "        vertical-align: middle;\n",
       "    }\n",
       "\n",
       "    .dataframe tbody tr th {\n",
       "        vertical-align: top;\n",
       "    }\n",
       "\n",
       "    .dataframe thead th {\n",
       "        text-align: right;\n",
       "    }\n",
       "</style>\n",
       "<table border=\"1\" class=\"dataframe\">\n",
       "  <thead>\n",
       "    <tr style=\"text-align: right;\">\n",
       "      <th></th>\n",
       "      <th>SPART_ID</th>\n",
       "      <th>Scientific_Name</th>\n",
       "      <th>Threatened_Status</th>\n",
       "      <th>Class</th>\n",
       "      <th>Family</th>\n",
       "      <th>Description</th>\n",
       "      <th>Habitat</th>\n",
       "      <th>Feeding</th>\n",
       "      <th>Threats</th>\n",
       "      <th>Profile</th>\n",
       "    </tr>\n",
       "  </thead>\n",
       "  <tbody>\n",
       "    <tr>\n",
       "      <th>0</th>\n",
       "      <td>36</td>\n",
       "      <td>Balaenoptera musculus</td>\n",
       "      <td>Endangered</td>\n",
       "      <td>Mammalia</td>\n",
       "      <td>Balaenopteridae</td>\n",
       "      <td>Both the Antarctic blue whale and pygmy blue w...</td>\n",
       "      <td>Blue whale habitat is variable between the two...</td>\n",
       "      <td>In Antarctic waters, the blue whale feeds on k...</td>\n",
       "      <td>Several anthropogenic threats have been identi...</td>\n",
       "      <td>http://www.environment.gov.au/cgi-bin/sprat/pu...</td>\n",
       "    </tr>\n",
       "    <tr>\n",
       "      <th>1</th>\n",
       "      <td>40</td>\n",
       "      <td>Eubalaena australis</td>\n",
       "      <td>Endangered</td>\n",
       "      <td>Mammalia</td>\n",
       "      <td>Balaenidae</td>\n",
       "      <td>The southern right whale is a large baleen wha...</td>\n",
       "      <td>Feeding HabitatThe feeding habitat of the sout...</td>\n",
       "      <td>Knowledge of southern right whale prey items h...</td>\n",
       "      <td>The  Conservation Management Plan for the Sout...</td>\n",
       "      <td>http://www.environment.gov.au/cgi-bin/sprat/pu...</td>\n",
       "    </tr>\n",
       "    <tr>\n",
       "      <th>2</th>\n",
       "      <td>77</td>\n",
       "      <td>Pseudomys shortridgei</td>\n",
       "      <td>Endangered</td>\n",
       "      <td>Mammalia</td>\n",
       "      <td>Muridae</td>\n",
       "      <td>NA</td>\n",
       "      <td>NA</td>\n",
       "      <td>NA</td>\n",
       "      <td>NA</td>\n",
       "      <td>http://www.environment.gov.au/cgi-bin/sprat/pu...</td>\n",
       "    </tr>\n",
       "    <tr>\n",
       "      <th>3</th>\n",
       "      <td>88</td>\n",
       "      <td>Pseudomys fumeus</td>\n",
       "      <td>Endangered</td>\n",
       "      <td>Mammalia</td>\n",
       "      <td>Muridae</td>\n",
       "      <td>The Konoom is an Australian native rodent with...</td>\n",
       "      <td>The Konoom occurs in a wide variety of habitat...</td>\n",
       "      <td>The Konoom has a seasonal diet that is based o...</td>\n",
       "      <td>Predation by introduced speciesThe relatively ...</td>\n",
       "      <td>http://www.environment.gov.au/cgi-bin/sprat/pu...</td>\n",
       "    </tr>\n",
       "    <tr>\n",
       "      <th>4</th>\n",
       "      <td>98</td>\n",
       "      <td>Pseudomys oralis</td>\n",
       "      <td>Endangered</td>\n",
       "      <td>Mammalia</td>\n",
       "      <td>Muridae</td>\n",
       "      <td>The Hastings River Mouse is a brownish-grey ro...</td>\n",
       "      <td>The main factors determining the species' pres...</td>\n",
       "      <td>The diet of the Hastings River Mouse has been ...</td>\n",
       "      <td>NA</td>\n",
       "      <td>http://www.environment.gov.au/cgi-bin/sprat/pu...</td>\n",
       "    </tr>\n",
       "  </tbody>\n",
       "</table>\n",
       "</div>"
      ],
      "text/plain": [
       "   SPART_ID        Scientific_Name Threatened_Status     Class  \\\n",
       "0        36  Balaenoptera musculus        Endangered  Mammalia   \n",
       "1        40    Eubalaena australis        Endangered  Mammalia   \n",
       "2        77  Pseudomys shortridgei        Endangered  Mammalia   \n",
       "3        88       Pseudomys fumeus        Endangered  Mammalia   \n",
       "4        98       Pseudomys oralis        Endangered  Mammalia   \n",
       "\n",
       "            Family                                        Description  \\\n",
       "0  Balaenopteridae  Both the Antarctic blue whale and pygmy blue w...   \n",
       "1       Balaenidae  The southern right whale is a large baleen wha...   \n",
       "2          Muridae                                                 NA   \n",
       "3          Muridae  The Konoom is an Australian native rodent with...   \n",
       "4          Muridae  The Hastings River Mouse is a brownish-grey ro...   \n",
       "\n",
       "                                             Habitat  \\\n",
       "0  Blue whale habitat is variable between the two...   \n",
       "1  Feeding HabitatThe feeding habitat of the sout...   \n",
       "2                                                 NA   \n",
       "3  The Konoom occurs in a wide variety of habitat...   \n",
       "4  The main factors determining the species' pres...   \n",
       "\n",
       "                                             Feeding  \\\n",
       "0  In Antarctic waters, the blue whale feeds on k...   \n",
       "1  Knowledge of southern right whale prey items h...   \n",
       "2                                                 NA   \n",
       "3  The Konoom has a seasonal diet that is based o...   \n",
       "4  The diet of the Hastings River Mouse has been ...   \n",
       "\n",
       "                                             Threats  \\\n",
       "0  Several anthropogenic threats have been identi...   \n",
       "1  The  Conservation Management Plan for the Sout...   \n",
       "2                                                 NA   \n",
       "3  Predation by introduced speciesThe relatively ...   \n",
       "4                                                 NA   \n",
       "\n",
       "                                             Profile  \n",
       "0  http://www.environment.gov.au/cgi-bin/sprat/pu...  \n",
       "1  http://www.environment.gov.au/cgi-bin/sprat/pu...  \n",
       "2  http://www.environment.gov.au/cgi-bin/sprat/pu...  \n",
       "3  http://www.environment.gov.au/cgi-bin/sprat/pu...  \n",
       "4  http://www.environment.gov.au/cgi-bin/sprat/pu...  "
      ]
     },
     "execution_count": 93,
     "metadata": {},
     "output_type": "execute_result"
    }
   ],
   "source": [
    "animals.head()"
   ]
  },
  {
   "cell_type": "markdown",
   "metadata": {},
   "source": [
    "### Images Data"
   ]
  },
  {
   "cell_type": "code",
   "execution_count": 15,
   "metadata": {},
   "outputs": [],
   "source": [
    "aus_animals = pd.read_csv(\"AUSTRALIA_ANIMALS.csv\")"
   ]
  },
  {
   "cell_type": "code",
   "execution_count": 16,
   "metadata": {},
   "outputs": [
    {
     "data": {
      "text/plain": [
       "Index(['Unnamed: 0', 'SPART_ID', 'Scientific_Name', 'Common_Name',\n",
       "       'Threatened_Status', 'Class', 'Family', 'Description', 'Habitat',\n",
       "       'Feeding', 'Threats', 'Regions', 'Image', 'Profile', 'Lat_Lon'],\n",
       "      dtype='object')"
      ]
     },
     "execution_count": 16,
     "metadata": {},
     "output_type": "execute_result"
    }
   ],
   "source": []
  },
  {
   "cell_type": "code",
   "execution_count": 10,
   "metadata": {},
   "outputs": [],
   "source": [
    "images = pd.read_csv(\"images_split_edit_animals.csv\")"
   ]
  },
  {
   "cell_type": "code",
   "execution_count": 8,
   "metadata": {},
   "outputs": [],
   "source": [
    "images[\"SPART_ID\"] = aus_animals[\"SPART_ID\"]"
   ]
  },
  {
   "cell_type": "code",
   "execution_count": 14,
   "metadata": {},
   "outputs": [
    {
     "data": {
      "text/html": [
       "<div>\n",
       "<style scoped>\n",
       "    .dataframe tbody tr th:only-of-type {\n",
       "        vertical-align: middle;\n",
       "    }\n",
       "\n",
       "    .dataframe tbody tr th {\n",
       "        vertical-align: top;\n",
       "    }\n",
       "\n",
       "    .dataframe thead th {\n",
       "        text-align: right;\n",
       "    }\n",
       "</style>\n",
       "<table border=\"1\" class=\"dataframe\">\n",
       "  <thead>\n",
       "    <tr style=\"text-align: right;\">\n",
       "      <th></th>\n",
       "      <th>SPART_ID</th>\n",
       "      <th>Scientific_Name</th>\n",
       "      <th>Common_Name</th>\n",
       "      <th>images</th>\n",
       "    </tr>\n",
       "  </thead>\n",
       "  <tbody>\n",
       "    <tr>\n",
       "      <th>0</th>\n",
       "      <td>36</td>\n",
       "      <td>Balaenoptera musculus</td>\n",
       "      <td>Blue Whale</td>\n",
       "      <td>['https://upload.wikimedia.org/wikipedia/commo...</td>\n",
       "    </tr>\n",
       "    <tr>\n",
       "      <th>1</th>\n",
       "      <td>40</td>\n",
       "      <td>Eubalaena australis</td>\n",
       "      <td>Southern Right Whale</td>\n",
       "      <td>['https://upload.wikimedia.org/wikipedia/commo...</td>\n",
       "    </tr>\n",
       "    <tr>\n",
       "      <th>2</th>\n",
       "      <td>77</td>\n",
       "      <td>Pseudomys shortridgei</td>\n",
       "      <td>Heath Mouse, Dayang, Heath Rat</td>\n",
       "      <td>['https://upload.wikimedia.org/wikipedia/commo...</td>\n",
       "    </tr>\n",
       "    <tr>\n",
       "      <th>3</th>\n",
       "      <td>88</td>\n",
       "      <td>Pseudomys fumeus</td>\n",
       "      <td>Smoky Mouse, Konoom</td>\n",
       "      <td>[]</td>\n",
       "    </tr>\n",
       "    <tr>\n",
       "      <th>4</th>\n",
       "      <td>98</td>\n",
       "      <td>Pseudomys oralis</td>\n",
       "      <td>Hastings River Mouse, Koontoo</td>\n",
       "      <td>['https://upload.wikimedia.org/wikipedia/commo...</td>\n",
       "    </tr>\n",
       "  </tbody>\n",
       "</table>\n",
       "</div>"
      ],
      "text/plain": [
       "   SPART_ID        Scientific_Name                     Common_Name  \\\n",
       "0        36  Balaenoptera musculus                      Blue Whale   \n",
       "1        40    Eubalaena australis            Southern Right Whale   \n",
       "2        77  Pseudomys shortridgei  Heath Mouse, Dayang, Heath Rat   \n",
       "3        88       Pseudomys fumeus             Smoky Mouse, Konoom   \n",
       "4        98       Pseudomys oralis   Hastings River Mouse, Koontoo   \n",
       "\n",
       "                                              images  \n",
       "0  ['https://upload.wikimedia.org/wikipedia/commo...  \n",
       "1  ['https://upload.wikimedia.org/wikipedia/commo...  \n",
       "2  ['https://upload.wikimedia.org/wikipedia/commo...  \n",
       "3                                                 []  \n",
       "4  ['https://upload.wikimedia.org/wikipedia/commo...  "
      ]
     },
     "execution_count": 14,
     "metadata": {},
     "output_type": "execute_result"
    }
   ],
   "source": [
    "images.head()"
   ]
  },
  {
   "cell_type": "code",
   "execution_count": 13,
   "metadata": {},
   "outputs": [],
   "source": [
    "idx = 0\n",
    "new_col = aus_animals[\"SPART_ID\"]  # can be a list, a Series, an array or a scalar   \n",
    "images.insert(loc=idx, column='SPART_ID', value=new_col)"
   ]
  },
  {
   "cell_type": "code",
   "execution_count": 17,
   "metadata": {},
   "outputs": [],
   "source": [
    "images.to_csv(\"images_split_edit_animals.csv\")"
   ]
  },
  {
   "cell_type": "code",
   "execution_count": null,
   "metadata": {
    "scrolled": true
   },
   "outputs": [
    {
     "name": "stdout",
     "output_type": "stream",
     "text": [
      "Sci_name: Balaenoptera musculus\n",
      "\n",
      "comm_name: Blue Whale\n",
      "\n",
      "Enter the url:https://en.wikipedia.org/wiki/Blue_whale#/media/File:Anim1754_-_Flickr_-_NOAA_Photo_Library.jpg\n",
      "Enter the url:https://en.wikipedia.org/wiki/Blue_whale#/media/File:Blue_Whale_001_body_bw.jpg\n",
      "Enter the url:https://en.wikipedia.org/wiki/Blue_whale#/media/File:Bluewhale2_noaa.jpg\n",
      "Enter the url:https://en.wikipedia.org/wiki/Blue_whale#/media/File:Bluewhale1_noaa_crop.jpg\n",
      "Enter the url:exit\n"
     ]
    },
    {
     "name": "stderr",
     "output_type": "stream",
     "text": [
      "C:\\Users\\V.PAVAN\\Anaconda3\\lib\\site-packages\\ipykernel_launcher.py:13: SettingWithCopyWarning: \n",
      "A value is trying to be set on a copy of a slice from a DataFrame\n",
      "\n",
      "See the caveats in the documentation: http://pandas.pydata.org/pandas-docs/stable/indexing.html#indexing-view-versus-copy\n",
      "  del sys.path[0]\n"
     ]
    },
    {
     "name": "stdout",
     "output_type": "stream",
     "text": [
      "Sci_name: Eubalaena australis\n",
      "\n",
      "comm_name: Southern Right Whale\n",
      "\n",
      "Enter the url:https://en.wikipedia.org/wiki/Southern_right_whale#/media/File:Southern_Right_Whale_(Eubalaena_australis)_(16358018502).jpg\n",
      "Enter the url:https://en.wikipedia.org/wiki/Southern_right_whale#/media/File:Ballenafranca+alvina.jpg\n",
      "Enter the url:exit\n",
      "Sci_name: Pseudomys shortridgei\n",
      "\n",
      "comm_name: Heath Mouse, Dayang, Heath Rat\n",
      "\n",
      "Enter the url:https://live.staticflickr.com/812/40242103384_b1cb2cd6f5.jpg\n",
      "Enter the url:exit\n",
      "Sci_name: Pseudomys fumeus\n",
      "\n",
      "comm_name: Smoky Mouse, Konoom\n",
      "\n",
      "Enter the url:https://collections.museumvictoria.com.au/content/media/11/671911-small.jpg\n",
      "Enter the url:exit\n",
      "Sci_name: Pseudomys oralis\n",
      "\n",
      "comm_name: Hastings River Mouse, Koontoo\n",
      "\n",
      "Enter the url:https://en.wikipedia.org/wiki/Hastings_River_mouse#/media/File:Hastings_River_Mouse.jpg\n",
      "Enter the url:exit\n",
      "Sci_name: Pteropus conspicillatus\n",
      "\n",
      "comm_name: Spectacled Flying-fox\n",
      "\n",
      "Enter the url:https://en.wikipedia.org/wiki/Spectacled_flying_fox#/media/File:Pteropus_conspicillatus_family.jpg\n",
      "Enter the url:https://en.wikipedia.org/wiki/Spectacled_flying_fox#/media/File:CSIRO_ScienceImage_3220_Spectacled_flying_fox.jpg\n",
      "Enter the url:https://en.wikipedia.org/wiki/Spectacled_flying_fox#/media/File:Pteropus_conspicillatus.jpg\n",
      "Enter the url:exit\n",
      "Sci_name: Bettongia tropica\n",
      "\n",
      "comm_name: Northern Bettong\n",
      "\n",
      "Enter the url:https://mt89b42mtr62svcyy19prhvv-wpengine.netdna-ssl.com/wp-content/uploads/2019/02/What_is_AWC_doing_Northern-Bettong_AWC-632x440.jpg\n",
      "Enter the url:exit\n",
      "Sci_name: Potorous longipes\n",
      "\n",
      "comm_name: Long-footed Potoroo\n",
      "\n",
      "Enter the url:https://collections.museumvictoria.com.au/content/media/6/361506-small.jpg\n",
      "Enter the url:exit\n",
      "Sci_name: Petrogale persephone\n",
      "\n",
      "comm_name: Proserpine Rock-wallaby\n",
      "\n",
      "Enter the url:https://hcmif3k7kt343pwrn2ytkt39-wpengine.netdna-ssl.com/files/2014/03/tile10.jpg\n",
      "Enter the url:exit\n",
      "Sci_name: Onychogalea fraenata\n",
      "\n",
      "comm_name: Bridled Nail-tail Wallaby, Bridled Nailtail Wallaby\n",
      "\n",
      "Enter the url:https://en.wikipedia.org/wiki/Bridled_nail-tail_wallaby#/media/File:Bridled_nailtail_wallaby-female-01.JPG\n",
      "Enter the url:exit\n",
      "Sci_name: Burramys parvus\n",
      "\n",
      "comm_name: Mountain Pygmy-possum\n",
      "\n",
      "Enter the url:https://www.zoo.org.au/media/1738/12318_mountain_pygmy_possum_offsite.jpg\n",
      "Enter the url:exit\n",
      "Sci_name: Sminthopsis psammophila\n",
      "\n",
      "comm_name: Sandhill Dunnart\n",
      "\n",
      "Enter the url:https://en.wikipedia.org/wiki/Sandhill_dunnart#/media/File:Sminthopsis_psammophilus_holotype_lateral_view_imported_from_ALA_on_15_january_2020.jpg\n",
      "Enter the url:exit\n",
      "Sci_name: Myrmecobius fasciatus\n",
      "\n",
      "comm_name: Numbat\n",
      "\n",
      "Enter the url:https://en.wikipedia.org/wiki/Numbat#/media/File:Numbat.jpg\n",
      "Enter the url:https://en.wikipedia.org/wiki/Numbat#/media/File:Dasyurus_viverrinus_Gould_white_background.jpg\n",
      "Enter the url:https://en.wikipedia.org/wiki/Numbat#/media/File:Numbat_Face.jpg\n",
      "Enter the url:exit\n",
      "Sci_name: Sarcophilus harrisii\n",
      "\n",
      "comm_name: Tasmanian Devil\n",
      "\n",
      "Enter the url:https://en.wikipedia.org/wiki/Tasmanian_devil#/media/File:Sarcophilus_harrisii_taranna.jpg\n",
      "Enter the url:https://en.wikipedia.org/wiki/Tasmanian_devil#/media/File:Tasmanian_Devil_markings.jpg\n",
      "Enter the url:https://en.wikipedia.org/wiki/Tasmanian_devil#/media/File:TasmanianDevil_1888.jpg\n",
      "Enter the url:exit\n",
      "Sci_name: Sminthopsis aitkeni\n",
      "\n",
      "comm_name: Kangaroo Island Dunnart\n",
      "\n",
      "Enter the url:http://www.nespthreatenedspecies.edu.au/Kangaroo%20Island%20Dunnart%20A_Jody%20Gates_web.jpg\n",
      "Enter the url:exit\n",
      "Sci_name: Parantechinus apicalis\n",
      "\n",
      "comm_name: Dibbler\n",
      "\n",
      "Enter the url:https://www.australiangeographic.com.au/wp-content/uploads/2019/09/Parantechinus-apicalis-Southern-Dibbler-RFY-710-%C2%A9Jiri-Lochman-Lochman-LT.jpg\n",
      "Enter the url:exit\n",
      "Sci_name: Dasyurus hallucatus\n",
      "\n",
      "comm_name: Northern Quoll, Digul [Gogo-Yimidir], Wijingadda [Dambimangari], Wiminji [Martu]\n",
      "\n",
      "Enter the url:https://en.wikipedia.org/wiki/Northern_quoll#/media/File:Dasyurus_hallucatus_-Queensland-8.jpg\n",
      "Enter the url:exit\n",
      "Sci_name: Dasyurus viverrinus\n",
      "\n",
      "comm_name: Eastern Quoll, Luaner\n",
      "\n",
      "Enter the url:https://en.wikipedia.org/wiki/Eastern_quoll#/media/File:Dasyurus_viverrinus.jpg\n",
      "Enter the url:https://en.wikipedia.org/wiki/Eastern_quoll#/media/File:Eastern_Quoll_(Fawn).jpg\n",
      "Enter the url:https://en.wikipedia.org/wiki/Eastern_quoll#/media/File:Eastern_Quoll_(Black).jpg\n",
      "Enter the url:exit\n",
      "Sci_name: Erythrura gouldiae\n",
      "\n",
      "comm_name: Gouldian Finch\n",
      "\n",
      "Enter the url:https://en.wikipedia.org/wiki/Gouldian_finch#/media/File:Male_adult_Gouldian_Finch.jpg\n",
      "Enter the url:https://en.wikipedia.org/wiki/Gouldian_finch#/media/File:Erythrura_gouldiae_-Frankfurt_Zoo_-black_headed-8a-3cp.jpg\n",
      "Enter the url:https://en.wikipedia.org/wiki/Gouldian_finch#/media/File:Erythrura_gouldiae_-Artis_Zoo_-Netherlands_-male-8a.jpg\n",
      "Enter the url:exit\n",
      "Sci_name: Pardalotus quadragintus\n",
      "\n",
      "comm_name: Forty-spotted Pardalote\n",
      "\n",
      "Enter the url:https://en.wikipedia.org/wiki/Forty-spotted_pardalote#/media/File:Forty-spotted_Pardalote.jpg\n",
      "Enter the url:https://en.wikipedia.org/wiki/Forty-spotted_pardalote#/media/File:Pardalotus_quadragintus_-_Peter_Murrell_Reserve.jpg\n",
      "Enter the url:exit\n",
      "Sci_name: Manorina melanotis\n",
      "\n",
      "comm_name: Black-eared Miner\n",
      "\n",
      "Enter the url:https://en.wikipedia.org/wiki/Black-eared_miner#/media/File:Black-eared_Miner_(Manorina_melanotis)_(8079664126).jpg\n",
      "Enter the url:exit\n",
      "Sci_name: Accipiter hiogaster natalis\n",
      "\n",
      "comm_name: Christmas Island Goshawk\n",
      "\n",
      "Enter the url:https://en.wikipedia.org/wiki/Christmas_goshawk#/media/File:Photo_of_Christmas_Island_Goshawk_2006.jpg\n",
      "Enter the url:exit\n",
      "Sci_name: Dasyornis longirostris\n",
      "\n",
      "comm_name: Western Bristlebird\n",
      "\n",
      "Enter the url:https://en.wikipedia.org/wiki/Bristlebird#/media/File:Rufous_Bristlebird_-_Port_Campbell_-_Victoria_S4E5020_(22198525590).jpg\n",
      "Enter the url:exit\n",
      "Sci_name: Dasyornis brachypterus\n",
      "\n",
      "comm_name: Eastern Bristlebird\n",
      "\n",
      "Enter the url:https://en.wikipedia.org/wiki/Eastern_bristlebird#/media/File:Eastern_Bristlebird_-_Penrith.jpg\n",
      "Enter the url:exit\n",
      "Sci_name: Glyphis garricki\n",
      "\n",
      "comm_name: Northern River Shark, New Guinea River Shark\n",
      "\n",
      "Enter the url:https://en.wikipedia.org/wiki/Northern_river_shark#/media/File:Glyphis_garricki_csiro-nfc.jpg\n",
      "Enter the url:exit\n",
      "Sci_name: Amytornis dorotheae\n",
      "\n",
      "comm_name: Carpentarian Grasswren\n",
      "\n",
      "Enter the url:http://birdlife.org.au/images/sized/images/uploads/bird_profiles/Carpentarian-Grasswren-580MSanders-580x398.jpg\n",
      "Enter the url:exit\n",
      "Sci_name: Atrichornis clamosus\n",
      "\n",
      "comm_name: Noisy Scrub-bird, Tjimiluk\n",
      "\n",
      "Enter the url:https://en.wikipedia.org/wiki/Noisy_scrubbird#/media/File:Atrichornis-clamosus.jpg\n",
      "Enter the url:exit\n",
      "Sci_name: Atrichornis rufescens\n",
      "\n",
      "comm_name: Rufous Scrub-bird\n",
      "\n",
      "Enter the url:http://animal.memozee.com/ArchOLD-3/1112973757.jpg\n",
      "Enter the url:exit\n",
      "Sci_name: Thaumatoperla alpina\n",
      "\n",
      "comm_name: Alpine Stonefly\n",
      "\n",
      "Enter the url:https://collections.museumvictoria.com.au/content/media/34/347684-small.jpg\n",
      "Enter the url:exit\n",
      "Sci_name: Psephotus chrysopterygius\n",
      "\n",
      "comm_name: Golden-shouldered Parrot, Alwal\n",
      "\n",
      "Enter the url:https://en.wikipedia.org/wiki/Golden-shouldered_parrot#/media/File:Golden-shouldered_Parrot_(Psephotus_chrysopterygius)-6.jpg\n",
      "Enter the url:https://en.wikipedia.org/wiki/Golden-shouldered_parrot#/media/File:Captive_Golden_shouldered_parrot_pair..jpg\n",
      "Enter the url:exit\n",
      "Sci_name: Calyptorhynchus baudinii\n",
      "\n",
      "comm_name: Baudin's Cockatoo, Long-billed Black-Cockatoo\n",
      "\n",
      "Enter the url:https://en.wikipedia.org/wiki/Baudin%27s_black_cockatoo#/media/File:Calyptorhynchus_baudinii_(female)_-Margaret_River-8.jpg\n",
      "Enter the url:https://en.wikipedia.org/wiki/Baudin%27s_black_cockatoo#/media/File:Calyptorhynchus_baudinii_(male)_-Margaret_River-8.jpg\n",
      "Enter the url:exit\n",
      "Sci_name: Calidris canutus\n",
      "\n",
      "comm_name: Red Knot, Knot\n",
      "\n",
      "Enter the url:https://en.wikipedia.org/wiki/Red_knot#/media/File:Red-Knot-for-Wiki.jpg\n",
      "Enter the url:https://en.wikipedia.org/wiki/Red_knot#/media/File:Red_Knot_1_-_Boat_Harbour.jpg\n",
      "Enter the url:exit\n",
      "Sci_name: Charadrius mongolus\n",
      "\n",
      "comm_name: Lesser Sand Plover, Mongolian Plover\n",
      "\n",
      "Enter the url:https://en.wikipedia.org/wiki/Lesser_sand_plover#/media/File:Charadrius_mongolus_-_Laem_Phak_Bia.jpg\n",
      "Enter the url:https://en.wikipedia.org/wiki/Lesser_sand_plover#/media/File:Charadrius_mongolus_-_Laem_Pak_Bia.jpg\n",
      "Enter the url:exit\n",
      "Sci_name: Diomedea dabbenena\n",
      "\n",
      "comm_name: Tristan Albatross\n",
      "\n"
     ]
    },
    {
     "name": "stdout",
     "output_type": "stream",
     "text": [
      "Enter the url:https://en.wikipedia.org/wiki/Tristan_albatross#/media/File:Tristan_Albatross_(1).jpg\n",
      "Enter the url:exit\n",
      "Sci_name: Thalassarche chrysostoma\n",
      "\n",
      "comm_name: Grey-headed Albatross\n",
      "\n",
      "Enter the url:https://en.wikipedia.org/wiki/Grey-headed_albatross#/media/File:Thalassarche_chrysostoma_-_SE_Tasmania.jpg\n",
      "Enter the url:https://en.wikipedia.org/wiki/Grey-headed_albatross#/media/File:Grey-headed_albatross_chick.jpg\n",
      "Enter the url:exit\n",
      "Sci_name: Botaurus poiciloptilus\n",
      "\n",
      "comm_name: Australasian Bittern\n",
      "\n",
      "Enter the url:https://en.wikipedia.org/wiki/Australasian_bittern#/media/File:Australasian_Bittern_(cropped).jpg\n",
      "Enter the url:https://en.wikipedia.org/wiki/Australasian_bittern#/media/File:Australasian_Bittern_(Botaurus_poiciloptilus)_in_the_grass.jpg\n",
      "Enter the url:exit\n",
      "Sci_name: Fregata andrewsi\n",
      "\n",
      "comm_name: Christmas Island Frigatebird, Andrew's Frigatebird\n",
      "\n",
      "Enter the url:https://en.wikipedia.org/wiki/Christmas_frigatebird#/media/File:Christmas_Island_Frigatebird_male_-_Jakarta_Bay,_Indonesia.jpg\n",
      "Enter the url:https://en.wikipedia.org/wiki/Christmas_frigatebird#/media/File:Christmas_Island_Frigatebird_from_Indonesia.jpg\n",
      "Enter the url:exit\n",
      "Sci_name: Hylacola pyrrhopygia parkeri\n",
      "\n",
      "comm_name: Chestnut-rumped Heathwren (Mt Lofty Ranges)\n",
      "\n",
      "Enter the url:https://en.wikipedia.org/wiki/Chestnut-rumped_heathwren#/media/File:Chestnut-_Rumped_Heathwren_small_fx.jpg\n",
      "Enter the url:exit\n",
      "Sci_name: Macronectes giganteus\n",
      "\n",
      "comm_name: Southern Giant-Petrel, Southern Giant Petrel\n",
      "\n",
      "Enter the url:https://en.wikipedia.org/wiki/Southern_giant_petrel#/media/File:Giant_petrel_with_chicks.jpg\n",
      "Enter the url:https://en.wikipedia.org/wiki/Southern_giant_petrel#/media/File:Macronectes_giganteus_-East_Falkland_-flying-8b-4c.jpg\n",
      "Enter the url:exit\n",
      "Sci_name: Perameles bougainville bougainville\n",
      "\n",
      "comm_name: Western Barred Bandicoot (Shark Bay)\n",
      "\n",
      "Enter the url:https://en.wikipedia.org/wiki/Western_barred_bandicoot#/media/File:Perameles_bougainville_-_Museo_Civico_di_Storia_Naturale_Giacomo_Doria_-_Genoa,_Italy_-_DSC02989.JPG\n",
      "Enter the url:exit\n",
      "Sci_name: Macquaria australasica\n",
      "\n",
      "comm_name: Macquarie Perch\n",
      "\n",
      "Enter the url:https://en.wikipedia.org/wiki/Macquarie_perch#/media/File:Macquarie_perch.jpg\n",
      "Enter the url:https://en.wikipedia.org/wiki/Macquarie_perch#/media/File:Macquarie_perch_2.jpg\n",
      "Enter the url:exit\n",
      "Sci_name: Liopholis guthega\n",
      "\n",
      "comm_name: Guthega Skink\n",
      "\n",
      "Enter the url:https://www.zoo.org.au/media/1724/10408_guthega_skink_healesville_sanctuary.jpg\n",
      "Enter the url:exit\n",
      "Sci_name: Tympanocryptis pinguicolla\n",
      "\n",
      "comm_name: Grassland Earless Dragon\n",
      "\n",
      "Enter the url:https://en.wikipedia.org/wiki/Tympanocryptis_pinguicolla#/media/File:TympanocryptisPinguicolla.png\n",
      "Enter the url:exit\n",
      "Sci_name: Lissotes latidens\n",
      "\n",
      "comm_name: Broad-toothed Stag Beetle, Wielangta Stag Beetle\n",
      "\n",
      "Enter the url:https://upload.wikimedia.org/wikipedia/commons/b/bb/Cerf-volant_MHNT_Dos.jpg\n",
      "Enter the url:exit\n",
      "Sci_name: Paralucia pyrodiscus lucida\n",
      "\n",
      "comm_name: Eltham Copper Butterfly\n",
      "\n",
      "Enter the url:https://en.wikipedia.org/wiki/Paralucia_pyrodiscus#/media/File:Paralucia_pyrodiscus_(ento-csiro-au).jpg\n",
      "Enter the url:exit\n",
      "Sci_name: Placostylus bivaricosus\n",
      "\n",
      "comm_name: Lord Howe Flax Snail, Lord Howe Placostylus\n",
      "\n",
      "Enter the url:https://en.wikipedia.org/wiki/Lord_Howe_flax_snail#/media/File:Lord_Howe_Island_museum_-_Placostylus_bivaricosus.jpg\n",
      "Enter the url:exit\n",
      "Sci_name: Tasmanipatus anophthalmus\n",
      "\n",
      "comm_name: Blind Velvet Worm\n",
      "\n",
      "Enter the url:https://en.wikipedia.org/wiki/Peripatoides#/media/File:Peripatoides_01.jpg\n",
      "Enter the url:exit\n",
      "Sci_name: Liopholis slateri slateri\n",
      "\n",
      "comm_name: Slater's Skink, Floodplain Skink\n",
      "\n",
      "Enter the url:https://en.wikipedia.org/wiki/Liopholis#/media/File:Egernia_whitii.jpg\n",
      "Enter the url:exit\n",
      "Sci_name: Engaeus spinicaudatus\n",
      "\n",
      "comm_name: Scottsdale Burrowing Crayfish\n",
      "\n",
      "Enter the url:https://www.naturalvaluesatlas.tas.gov.au/downloadattachment?id=18503&type=image&height=600&width=800\n",
      "Enter the url:exit\n",
      "Sci_name: Tiliqua adelaidensis\n",
      "\n",
      "comm_name: Pygmy Blue-tongue Lizard, Adelaide Blue-tongue Lizard\n",
      "\n",
      "Enter the url:http://www.reptarium.cz/content/photo_rd_06/Tiliqua-adelaidensis-03000035773_01.jpg\n",
      "Enter the url:exit\n",
      "Sci_name: Zyzomys palatalis\n",
      "\n",
      "comm_name: Carpentarian Rock-rat, Aywalirroomoo\n",
      "\n",
      "Enter the url:https://upload.wikimedia.org/wikipedia/commons/3/39/Zyzomys_pedunculatus.jpg\n",
      "Enter the url:exit\n",
      "Sci_name: Arctocephalus tropicalis\n",
      "\n",
      "comm_name: Subantarctic Fur-seal\n",
      "\n",
      "Enter the url:https://en.wikipedia.org/wiki/Subantarctic_fur_seal#/media/File:Arctocephalus_tropicalis_CrozetIslands_male.jpg\n",
      "Enter the url:https://en.wikipedia.org/wiki/Subantarctic_fur_seal#/media/File:Arctocephalus_tropicalis_CrozetIslands_female.jpg\n",
      "Enter the url:exit\n",
      "Sci_name: Lerista allanae\n",
      "\n",
      "comm_name: Allan's Lerista, Retro Slider\n",
      "\n",
      "Enter the url:https://upload.wikimedia.org/wikipedia/commons/d/da/Hinulia_nigrolabris.jpg\n",
      "Enter the url:exit\n",
      "Sci_name: Litoria spenceri\n",
      "\n",
      "comm_name: Spotted Tree Frog\n",
      "\n",
      "Enter the url:https://en.wikipedia.org/wiki/Spencer%27s_river_tree_frog#/media/File:Litoria_spenceri01.jpg\n",
      "Enter the url:exit\n",
      "Sci_name: Mixophyes fleayi\n",
      "\n",
      "comm_name: Fleay's Frog\n",
      "\n",
      "Enter the url:https://en.wikipedia.org/wiki/Fleay%27s_barred_frog#/media/File:Mixophyes_fleayi.JPG\n",
      "Enter the url:https://en.wikipedia.org/wiki/Fleay%27s_barred_frog#/media/File:Mixophyes_fleayi_tadpole.JPG\n",
      "Enter the url:exit\n",
      "Sci_name: Ceyx azureus diemenensis\n",
      "\n",
      "comm_name: Tasmanian Azure Kingfisher\n",
      "\n",
      "Enter the url:https://media.brunyisland.com.au/images/birdlife/azure-kingfisher-1500x1000-DSCF5190.jpg\n",
      "Enter the url:exit\n",
      "Sci_name: Calyptorhynchus banksii graptogyne\n",
      "\n",
      "comm_name: South-eastern Red-tailed Black-Cockatoo\n",
      "\n",
      "Enter the url:https://en.wikipedia.org/wiki/Red-tailed_black_cockatoo#/media/File:Calyptorhynchus_banksii_(pair)-8-2cp.jpg\n",
      "Enter the url:https://en.wikipedia.org/wiki/Red-tailed_black_cockatoo#/media/File:Redcocky-female.jpg\n",
      "Enter the url:exit\n",
      "Sci_name: Casuarius casuarius johnsonii\n",
      "\n",
      "comm_name: Southern Cassowary, Australian Cassowary, Double-wattled Cassowary\n",
      "\n",
      "Enter the url:https://en.wikipedia.org/wiki/Southern_cassowary#/media/File:Casuarius_casuarius_-The_Rainforest_Habitat_Sanctuary-8a.jpg\n",
      "Enter the url:https://en.wikipedia.org/wiki/Southern_cassowary#/media/File:Southern_Cassowary_JCB.jpg\n",
      "Enter the url:exit\n",
      "Sci_name: Stipiturus malachurus intermedius\n",
      "\n",
      "comm_name: Fleurieu Peninsula Southern Emu-wren, Mount Lofty Southern Emu-wren\n",
      "\n",
      "Enter the url:https://en.wikipedia.org/wiki/Southern_emu-wren#/media/File:Stipiturus_malachurus_-_Southwest_National_Park.jpg\n",
      "Enter the url:exit\n",
      "Sci_name: Phaethon lepturus fulvus\n",
      "\n",
      "comm_name: Christmas Island White-tailed Tropicbird, Golden Bosunbird\n",
      "\n",
      "Enter the url:https://parksaustralia.gov.au/christmas/files/cache/birds/white-tailed-tropicbird-credit-ian-montgomery-cita-h-1366x410.jpg\n",
      "Enter the url:exit\n",
      "Sci_name: Neochmia ruficauda ruficauda\n",
      "\n",
      "comm_name: Star Finch (eastern), Star Finch (southern)\n",
      "\n",
      "Enter the url:https://en.wikipedia.org/wiki/Star_finch#/media/File:Neochmia_ruficauda.jpg\n",
      "Enter the url:exit\n",
      "Sci_name: Dasyurus maculatus maculatus (SE mainland population)\n",
      "\n",
      "comm_name: Spot-tailed Quoll, Spotted-tail Quoll, Tiger Quoll (southeastern mainland population)\n",
      "\n",
      "Enter the url:https://en.wikipedia.org/wiki/Tiger_quoll#/media/File:Spotted_Tail_Quoll_2011.jpg\n",
      "Enter the url:https://en.wikipedia.org/wiki/Tiger_quoll#/media/File:Dasyurus_maculatus_-Healesville_Sanctuary,_Australia-8a.jpg\n",
      "Enter the url:https://en.wikipedia.org/wiki/Tiger_quoll#/media/File:Spotted-tail-Quoll_Queens-Park-IpswichI.jpg\n",
      "Enter the url:exit\n",
      "Sci_name: Pterodroma leucoptera leucoptera\n",
      "\n",
      "comm_name: Gould's Petrel, Australian Gould's Petrel\n",
      "\n",
      "Enter the url:https://en.wikipedia.org/wiki/Gould%27s_petrel#/media/File:Pterodroma_leucoptera_-_Southport_-_Christopher_Watson.jpg\n",
      "Enter the url:https://en.wikipedia.org/wiki/Gould%27s_petrel#/media/File:Gould's_Petrel-off_Southport_Qld-15April2012.jpg\n",
      "Enter the url:exit\n",
      "Sci_name: Tyto novaehollandiae melvillensis\n",
      "\n",
      "comm_name: Tiwi Masked Owl, Tiwi Islands Masked Owl\n",
      "\n",
      "Enter the url:https://cdn.newsapi.com.au/image/v1/68b694150a6d92a4aa18d1494979faa8?width=1024\n",
      "Enter the url:exit\n",
      "Sci_name: Hypotaenidia philippensis andrewsi\n",
      "\n",
      "comm_name: Buff-banded Rail (Cocos (Keeling) Islands), Ayam Hutan\n",
      "\n",
      "Enter the url:https://en.wikipedia.org/wiki/Buff-banded_rail#/media/File:Gallirallus_philippensis_Lord_Howe_Island_1.jpg\n"
     ]
    },
    {
     "name": "stdout",
     "output_type": "stream",
     "text": [
      "Enter the url:https://en.wikipedia.org/wiki/Buff-banded_rail#/media/File:Buff-banded_Rail_Fafa_Island.jpg\n",
      "Enter the url:exit\n",
      "Sci_name: Chalcophaps indica natalis\n",
      "\n",
      "comm_name: Christmas Island Emerald Dove, Emerald Dove (Christmas Island)\n",
      "\n",
      "Enter the url:https://en.wikipedia.org/wiki/Common_emerald_dove#/media/File:Chalcophaps_indica_-a_pair_in_captivity-8a.jpg\n",
      "Enter the url:https://en.wikipedia.org/wiki/Common_emerald_dove#/media/File:Common_Emerald_Dove.jpg\n",
      "Enter the url:exit\n",
      "Sci_name: Cyanoramphus cookii\n",
      "\n",
      "comm_name: Norfolk Island Green Parrot, Tasman Parakeet, Norfolk Island Parakeet\n",
      "\n"
     ]
    }
   ],
   "source": [
    "import pandas as pd\n",
    "import string\n",
    "\n",
    "data = pd.read_csv('C:/Users/V.PAVAN/Desktop/FIT120 IE/project/work/images_split_edit_animals.csv')\n",
    "data = data[data['images'] == \"[]\"] \n",
    "\n",
    "for index,row in data.iterrows():\n",
    "    print('Sci_name: '+data['Scientific_Name'][index]+'\\n')\n",
    "    print('comm_name: '+data['Common_Name'][index]+'\\n')\n",
    "    word = 'enter'\n",
    "    images_url = []\n",
    "    while word != 'exit':\n",
    "        word = input('Enter the url:')\n",
    "        images_url.append(word)\n",
    "    data['images'][index] = images_url\n",
    "data.to_csv('hand_images.csv',index=False)\n",
    "print('Done with the images:=)')"
   ]
  },
  {
   "cell_type": "code",
   "execution_count": 3,
   "metadata": {},
   "outputs": [],
   "source": [
    "full_data = pd.read_csv('images_split_edit_animals.csv')\n",
    "\n",
    "\n",
    "full_data = full_data[full_data['images']!='[]'].reset_index().drop(['index'],axis=1)"
   ]
  },
  {
   "cell_type": "code",
   "execution_count": 5,
   "metadata": {},
   "outputs": [],
   "source": [
    "hand_images = pd.read_csv('hand_images.csv')\n",
    "\n",
    "def correct_images(x):\n",
    "    images_list = x.split(',')\n",
    "    return_images = []\n",
    "    for value in images_list:\n",
    "        match = re.search(\"(?P<url>https?://[^\\s]+)\", value)\n",
    "        if match:\n",
    "            return_images.append(match.group(\"url\"))\n",
    "        else:\n",
    "            continue\n",
    "    return return_images"
   ]
  },
  {
   "cell_type": "code",
   "execution_count": 8,
   "metadata": {},
   "outputs": [],
   "source": [
    "hand_images['images'] = hand_images.apply(lambda x: correct_images(x['images']),axis=1)\n",
    "\n",
    "\n",
    "pd.concat([full_data,hand_images]).reset_index().drop(['index'],axis=1).to_csv('images_final.csv',index=False)\n"
   ]
  },
  {
   "cell_type": "code",
   "execution_count": 8,
   "metadata": {},
   "outputs": [],
   "source": [
    "import pandas as pd"
   ]
  },
  {
   "cell_type": "code",
   "execution_count": 9,
   "metadata": {},
   "outputs": [],
   "source": [
    "final_images = pd.read_csv('images_final.csv')"
   ]
  },
  {
   "cell_type": "code",
   "execution_count": 13,
   "metadata": {},
   "outputs": [
    {
     "data": {
      "text/plain": [
       "Index(['SPART_ID', 'Scientific_Name', 'Common_Name', 'images'], dtype='object')"
      ]
     },
     "execution_count": 13,
     "metadata": {},
     "output_type": "execute_result"
    }
   ],
   "source": [
    "final_images.columns"
   ]
  },
  {
   "cell_type": "code",
   "execution_count": 15,
   "metadata": {},
   "outputs": [
    {
     "data": {
      "text/plain": [
       "numpy.int64"
      ]
     },
     "execution_count": 15,
     "metadata": {},
     "output_type": "execute_result"
    }
   ],
   "source": [
    "type(final_images['SPART_ID'][0])"
   ]
  },
  {
   "cell_type": "markdown",
   "metadata": {},
   "source": [
    "### Map Data "
   ]
  },
  {
   "cell_type": "code",
   "execution_count": 2,
   "metadata": {},
   "outputs": [],
   "source": [
    "import geopandas as gpd\n",
    "import pandas as pd\n",
    "from shapely.geometry import shape, mapping, Polygon, MultiPolygon, Point"
   ]
  },
  {
   "cell_type": "code",
   "execution_count": 3,
   "metadata": {},
   "outputs": [],
   "source": [
    "shape_file = gpd.read_file(\"snes_public_grids_08Aug2019_shapefile/snes_species_combined.shp\")\n",
    "image_file = pd.read_csv(\"images_final.csv\")"
   ]
  },
  {
   "cell_type": "code",
   "execution_count": 4,
   "metadata": {},
   "outputs": [
    {
     "data": {
      "text/plain": [
       "Index(['OBJECTID', 'Shape_Leng', 'Shape_Area', 'listed_id', 'map_id',\n",
       "       'sci_name', 'comm_name', 'threatened', 'migratory', 'pres_rank',\n",
       "       'category', 'extracted', 'tax_group', 'tax_family', 'tax_order',\n",
       "       'tax_class', 'tax_phylum', 'tax_king', 'other_ids', 'cell_size',\n",
       "       'regions', 'attributio', 'sprat_prof', 'geometry'],\n",
       "      dtype='object')"
      ]
     },
     "execution_count": 4,
     "metadata": {},
     "output_type": "execute_result"
    }
   ],
   "source": [
    "shape_file.columns"
   ]
  },
  {
   "cell_type": "code",
   "execution_count": 5,
   "metadata": {},
   "outputs": [],
   "source": [
    "image_file['lower_name'] = image_file['Scientific_Name'].str.lower()\n",
    "shape_file['lower_name'] = shape_file['sci_name'].str.lower()\n",
    "#Performing the inner join\n",
    "locations = pd.merge(shape_file[['lower_name','geometry']],image_file[['lower_name','SPART_ID']],on='lower_name',how='inner')"
   ]
  },
  {
   "cell_type": "code",
   "execution_count": 6,
   "metadata": {},
   "outputs": [],
   "source": [
    "new_df = gpd.GeoDataFrame(locations,geometry = \"geometry\")\n",
    "new_df.crs = {'init':'epsg:4326'}"
   ]
  },
  {
   "cell_type": "code",
   "execution_count": 7,
   "metadata": {},
   "outputs": [],
   "source": [
    "outdf = gpd.GeoDataFrame(columns=new_df.columns)\n",
    "for idx,row in new_df.iterrows():\n",
    "    #print(row)\n",
    "    if type(row.geometry) == MultiPolygon:\n",
    "        multdf = gpd.GeoDataFrame(columns = new_df.columns)\n",
    "        recs = len(row.geometry)\n",
    "        multdf = multdf.append([row]*recs,ignore_index=True)\n",
    "        for geom in range(recs):\n",
    "            multdf.loc[geom,'geometry'] = row.geometry[geom]\n",
    "        outdf = outdf.append(multdf,ignore_index=True)\n",
    "    if type(row.geometry) == Polygon:\n",
    "        outdf = outdf.append(row,ignore_index=True)"
   ]
  },
  {
   "cell_type": "code",
   "execution_count": 8,
   "metadata": {},
   "outputs": [],
   "source": [
    "new_df=gpd.GeoDataFrame(outdf,geometry='geometry')#adding the point objects as a column to the dataframe.\n",
    "new_df.crs={'init' :'epsg:4326'}\n",
    "\n",
    "\n",
    "new_df = new_df.drop(['lower_name'], axis = 1)"
   ]
  },
  {
   "cell_type": "code",
   "execution_count": null,
   "metadata": {},
   "outputs": [],
   "source": [
    "#new_df.to_csv(\"maps_edit_animals.csv\")"
   ]
  },
  {
   "cell_type": "markdown",
   "metadata": {},
   "source": [
    "## Inserting into Database:"
   ]
  },
  {
   "cell_type": "code",
   "execution_count": 18,
   "metadata": {},
   "outputs": [],
   "source": [
    "states = aus_animals[['SPART_ID','Regions']]"
   ]
  },
  {
   "cell_type": "code",
   "execution_count": 7,
   "metadata": {},
   "outputs": [],
   "source": [
    "import pymysql\n",
    "mydb = pymysql.connect(\n",
    "  host=\"localhost\",\n",
    "  user=\"root\",\n",
    "  passwd=\"root\",\n",
    "  database=\"services\"\n",
    ")"
   ]
  },
  {
   "cell_type": "code",
   "execution_count": 30,
   "metadata": {},
   "outputs": [
    {
     "data": {
      "text/plain": [
       "<bound method Connection.close of <pymysql.connections.Connection object at 0x00000184CA4E57B8>>"
      ]
     },
     "execution_count": 30,
     "metadata": {},
     "output_type": "execute_result"
    }
   ],
   "source": [
    "cursor.close\n",
    "mydb.close"
   ]
  },
  {
   "cell_type": "code",
   "execution_count": null,
   "metadata": {},
   "outputs": [],
   "source": [
    "cursor = mydb.cursor()\n",
    "sql = \"INSERT INTO animals_states(SPART_ID, States) VALUES (%s, %s)\"\n",
    "cursor.executemany(sql, tuples)\n",
    "mydb.commit()"
   ]
  },
  {
   "cell_type": "code",
   "execution_count": 9,
   "metadata": {},
   "outputs": [],
   "source": [
    "animals = new_df[['SPART_ID', 'geometry']]"
   ]
  },
  {
   "cell_type": "code",
   "execution_count": 10,
   "metadata": {},
   "outputs": [],
   "source": [
    "animals['geometry'] = animals['geometry'].astype(str)"
   ]
  },
  {
   "cell_type": "code",
   "execution_count": 5,
   "metadata": {},
   "outputs": [],
   "source": [
    "data = services\n",
    "subset = data[['SPART_ID', 'geometry']]\n",
    "tuples = [tuple(x) for x in subset.to_numpy()]"
   ]
  },
  {
   "cell_type": "code",
   "execution_count": 29,
   "metadata": {},
   "outputs": [],
   "source": [
    "states.to_csv(\"animal_states.csv\")"
   ]
  },
  {
   "cell_type": "code",
   "execution_count": null,
   "metadata": {},
   "outputs": [],
   "source": []
  },
  {
   "cell_type": "code",
   "execution_count": null,
   "metadata": {},
   "outputs": [],
   "source": []
  },
  {
   "cell_type": "code",
   "execution_count": null,
   "metadata": {},
   "outputs": [],
   "source": []
  }
 ],
 "metadata": {
  "colab": {
   "collapsed_sections": [],
   "name": "E24 project .ipynb",
   "provenance": []
  },
  "kernelspec": {
   "display_name": "Python 3",
   "language": "python",
   "name": "python3"
  },
  "language_info": {
   "codemirror_mode": {
    "name": "ipython",
    "version": 3
   },
   "file_extension": ".py",
   "mimetype": "text/x-python",
   "name": "python",
   "nbconvert_exporter": "python",
   "pygments_lexer": "ipython3",
   "version": "3.6.8"
  }
 },
 "nbformat": 4,
 "nbformat_minor": 1
}
